{
 "cells": [
  {
   "cell_type": "code",
   "execution_count": 1,
   "id": "685ef8bc",
   "metadata": {},
   "outputs": [],
   "source": [
    "# Importing  required Libraries\n",
    "import pandas as pd\n",
    "import numpy as np\n",
    "import seaborn as sns\n",
    "import requests\n",
    "from bs4 import BeautifulSoup\n",
    "import matplotlib.pyplot as plt \n",
    "import re\n"
   ]
  },
  {
   "cell_type": "code",
   "execution_count": 2,
   "id": "941efed7",
   "metadata": {},
   "outputs": [],
   "source": [
    "# keeping the cities we want in list format\n",
    "cities=[\"Bangalore\",\"Hyderabad\",\"Chennai\",\"Mumbai\",\"Pune\",\"Delhi\",\"Kolkata\"]"
   ]
  },
  {
   "cell_type": "code",
   "execution_count": 178,
   "id": "44ec8839",
   "metadata": {},
   "outputs": [
    {
     "name": "stdout",
     "output_type": "stream",
     "text": [
      "title-----> 2855\n",
      "specification---> 2855\n",
      "exp------> 2855\n",
      "area----> 2855\n",
      "fee----> 2855\n",
      "reviews----> 2855\n",
      "stories----> 2855\n",
      "availability---> 2855\n",
      "Location------> 2855\n",
      "Hospital---> 2855\n"
     ]
    }
   ],
   "source": [
    "# coding part\n",
    "title=[]\n",
    "specification=[]\n",
    "exp=[]\n",
    "area=[]\n",
    "fee=[]\n",
    "reviews=[]\n",
    "stories=[]\n",
    "availability=[]\n",
    "Location=[]\n",
    "Hospital=[]\n",
    "\n",
    "urls=[\"https://www.practo.com/search/doctors?results_type=doctor&q=%5B%7B%22word%22%3A%22dermatologist%22%2C%22autocompleted%22%3Atrue%2C%22category%22%3A%22subspeciality%22%7D%5D&city={}\",\n",
    "      \"https://www.practo.com/search/doctors?results_type=doctor&q=%5B%7B%22word%22%3A%22pediatrician%22%2C%22autocompleted%22%3Atrue%2C%22category%22%3A%22subspeciality%22%7D%5D&city={}\",\n",
    "      \"https://www.practo.com/search/doctors?results_type=doctor&q=%5B%7B%22word%22%3A%22gynecologist%2Fobstetrician%22%2C%22autocompleted%22%3Atrue%2C%22category%22%3A%22subspeciality%22%7D%5D&city={}\",\n",
    "      \"https://www.practo.com/search/doctors?results_type=doctor&q=%5B%7B%22word%22%3A%22dermatologist%22%2C%22autocompleted%22%3Atrue%2C%22category%22%3A%22subspeciality%22%7D%5D&city={}\",\n",
    "      \"https://www.practo.com/search/doctors?results_type=doctor&q=%5B%7B%22word%22%3A%22cardiologist%22%2C%22autocompleted%22%3Atrue%2C%22category%22%3A%22subspeciality%22%7D%5D&city={}\",\n",
    "      \"https://www.practo.com/search/doctors?results_type=doctor&q=%5B%7B%22word%22%3A%22fixed%20prosthodontics%22%2C%22autocompleted%22%3Atrue%2C%22category%22%3A%22service%22%7D%5D&city={}\",\n",
    "      \"https://www.practo.com/search/doctors?results_type=doctor&q=%5B%7B%22word%22%3A%22implantologist%22%2C%22autocompleted%22%3Atrue%2C%22category%22%3A%22subspeciality%22%7D%5D&city={}\",\n",
    "      \"https://www.practo.com/search/doctors?results_type=doctor&q=%5B%7B%22word%22%3A%22ayurveda%22%2C%22autocompleted%22%3Atrue%2C%22category%22%3A%22subspeciality%22%7D%5D&city={}\",\n",
    "      \"https://www.practo.com/search/doctors?results_type=doctor&q=%5B%7B%22word%22%3A%22psychologist%22%2C%22autocompleted%22%3Atrue%2C%22category%22%3A%22subspeciality%22%7D%5D&city={}\",\n",
    "      \"https://www.practo.com/search/doctors?results_type=doctor&q=%5B%7B%22word%22%3A%22audiologist%22%2C%22autocompleted%22%3Atrue%2C%22category%22%3A%22subspeciality%22%7D%5D&city={}\",\n",
    "      \"https://www.practo.com/search/doctors?results_type=doctor&q=%5B%7B%22word%22%3A%22speech%20therapist%22%2C%22autocompleted%22%3Atrue%2C%22category%22%3A%22subspeciality%22%7D%5D&city={}\",\n",
    "      \"https://www.practo.com/search/doctors?results_type=doctor&q=%5B%7B%22word%22%3A%22dietitian%2Fnutritionist%22%2C%22autocompleted%22%3Atrue%2C%22category%22%3A%22subspeciality%22%7D%5D&city={}\",\n",
    "      \"https://www.practo.com/search/clinics?results_type=clinic&q=%5B%7B%22word%22%3A%22clinikk%20health%20hub%22%2C%22autocompleted%22%3Atrue%2C%22category%22%3A%22practice_group%22%7D%5D&city={}\",\n",
    "      \"https://www.practo.com/search/doctors?results_type=doctor&q=%5B%7B%22word%22%3A%22nerves%20surgery%20specialist%22%2C%22autocompleted%22%3Atrue%2C%22category%22%3A%22common_name%22%7D%5D&city={}\",\n",
    "      \"https://www.practo.com/search/doctors?results_type=doctor&q=%5B%7B%22word%22%3A%22pre%20prosthetic%20surgery%20(rigid%20reconstruction)%22%2C%22autocompleted%22%3Atrue%2C%22category%22%3A%22service%22%7D%5D&city={}\",\n",
    "      \"https://www.practo.com/search/doctors?results_type=doctor&q=%5B%7B%22word%22%3A%22alopecia%20areta%20treatment%22%2C%22autocompleted%22%3Atrue%2C%22category%22%3A%22service%22%7D%5D&city={}\",\n",
    "      \"https://www.practo.com/search/doctors?results_type=doctor&q=%5B%7B%22word%22%3A%22gall%20bladder%20(biliary)%20stone%20treatment%22%2C%22autocompleted%22%3Atrue%2C%22category%22%3A%22service%22%7D%5D&city={}\",\n",
    "      \"https://www.practo.com/search/doctors?results_type=doctor&q=%5B%7B%22word%22%3A%22immunity%20therapy%22%2C%22autocompleted%22%3Atrue%2C%22category%22%3A%22service%22%7D%5D&city={}\",\n",
    "      \"https://www.practo.com/search/doctors?results_type=doctor&q=%5B%7B%22word%22%3A%22child%20occupational%20therapist%22%2C%22autocompleted%22%3Atrue%2C%22category%22%3A%22common_name%22%7D%5D&city={}\",\n",
    "      \"https://www.practo.com/search/doctors?results_type=doctor&q=%5B%7B%22word%22%3A%22chickenpox%22%2C%22autocompleted%22%3Atrue%2C%22category%22%3A%22symptom%22%7D%5D&city={}\",\n",
    "      \"https://www.practo.com/search/doctors?results_type=doctor&q=%5B%7B%22word%22%3A%22chickenpox%20treatment%22%2C%22autocompleted%22%3Atrue%2C%22category%22%3A%22service%22%7D%5D&city={}\",\n",
    "      \"https://www.practo.com/search/procedure?results_type=doctor&q=%5B%7B%22word%22%3A%22epistaxis%20treatment%22%2C%22autocompleted%22%3Atrue%2C%22category%22%3A%22procedure%22%7D%5D&city={}\",\n",
    "      \"https://www.practo.com/search/doctors?results_type=doctor&q=%5B%7B%22word%22%3A%22tailbone%20pain%20treatment%22%2C%22autocompleted%22%3Atrue%2C%22category%22%3A%22service%22%7D%5D&city={}\",\n",
    "      \"https://www.practo.com/search/procedure?results_type=doctor&q=%5B%7B%22word%22%3A%22root%20canal%20treatment%20(rct)%22%2C%22autocompleted%22%3Atrue%2C%22category%22%3A%22procedure%22%7D%5D&city={}\",\n",
    "      \"https://www.practo.com/search/doctors?results_type=doctor&q=%5B%7B%22word%22%3A%22scleral%20contact%20lens%22%2C%22autocompleted%22%3Atrue%2C%22category%22%3A%22service%22%7D%5D&city={}\",\n",
    "      \"https://www.practo.com/search/doctors?results_type=doctor&q=%5B%7B%22word%22%3A%22rectal%20abscess%22%2C%22autocompleted%22%3Atrue%2C%22category%22%3A%22symptom%22%7D%5D&city={}\",\n",
    "      \"https://www.practo.com/search/doctors?results_type=doctor&q=%5B%7B%22word%22%3A%22mental%20health%20doctor%22%2C%22autocompleted%22%3Atrue%2C%22category%22%3A%22common_name%22%7D%5D&city={}\",\n",
    "      \"https://www.practo.com/search/doctors?results_type=doctor&q=%5B%7B%22word%22%3A%22cardiac%20rehabilitation%22%2C%22autocompleted%22%3Atrue%2C%22category%22%3A%22service%22%7D%5D&city={}\",\n",
    "      \"https://www.practo.com/search/doctors?results_type=doctor&q=%5B%7B%22word%22%3A%22skin%20care%22%2C%22autocompleted%22%3Atrue%2C%22category%22%3A%22service%22%7D%5D&city={}\",\n",
    "      \"https://www.practo.com/search/doctors?results_type=doctor&q=%5B%7B%22word%22%3A%22skin%20whitening%22%2C%22autocompleted%22%3Atrue%2C%22category%22%3A%22symptom%22%7D%5D&city={}\",\n",
    "      \"https://www.practo.com/search/doctors?results_type=doctor&q=%5B%7B%22word%22%3A%22hair%20loss%20treatment%22%2C%22autocompleted%22%3Atrue%2C%22category%22%3A%22service%22%7D%5D&city={}\",\n",
    "      \"https://www.practo.com/search/procedure?results_type=doctor&q=%5B%7B%22word%22%3A%22hair%20transplant%22%2C%22autocompleted%22%3Atrue%2C%22category%22%3A%22procedure%22%7D%5D&city={}\",\n",
    "      \"https://www.practo.com/search/doctors?results_type=doctor&q=%5B%7B%22word%22%3A%22damon%20system%22%2C%22autocompleted%22%3Atrue%2C%22category%22%3A%22service%22%7D%5D&city={}\",\n",
    "      \"https://www.practo.com/search/doctors?results_type=doctor&q=%5B%7B%22word%22%3A%22ocular%20manifestation%20of%20disease%20sintemica%22%2C%22autocompleted%22%3Atrue%2C%22category%22%3A%22service%22%7D%5D&city={}\",\n",
    "      \"https://www.practo.com/search/doctors?results_type=doctor&q=%5B%7B%22word%22%3A%22spheroid%20body%20myopathy%22%2C%22autocompleted%22%3Atrue%2C%22category%22%3A%22symptom%22%7D%5D&city={}\",\n",
    "      \"https://www.practo.com/search/doctors?results_type=doctor&q=%5B%7B%22word%22%3A%22doppler%20scan%20in%20pregnancy%22%2C%22autocompleted%22%3Atrue%2C%22category%22%3A%22service%22%7D%5D&city={}\",\n",
    "      \"https://www.practo.com/search/doctors?results_type=doctor&q=%5B%7B%22word%22%3A%22vaginal%20infection%22%2C%22autocompleted%22%3Atrue%2C%22category%22%3A%22symptom%22%7D%5D&city={}\",\n",
    "      \"https://www.practo.com/search/procedure?results_type=doctor&q=%5B%7B%22word%22%3A%22facet%20joint%20injections%22%2C%22autocompleted%22%3Atrue%2C%22category%22%3A%22procedure%22%7D%5D&city={}\",\n",
    "      \"https://www.practo.com/search/doctors?results_type=doctor&q=%5B%7B%22word%22%3A%22joints%20and%20musculoskeletal%20disorders%22%2C%22autocompleted%22%3Atrue%2C%22category%22%3A%22service%22%7D%5D&city={}\"]\n",
    "\n",
    "      \n",
    "for i in urls:\n",
    "    for j in cities:\n",
    "        url=i.format(j)\n",
    "        page=requests.get(url)\n",
    "        soup=BeautifulSoup(page.text)\n",
    "        for x in soup.find_all(\"div\",class_=\"u-border-general--bottom\"):# Container\n",
    "            Doctor_title=x.find(\"h2\",class_=\"doctor-name\")\n",
    "            Doctor_specification=x.find(\"div\",class_=\"u-grey_3-text\")\n",
    "            experience=x.find(\"div\",{'class':\"uv2-spacer--xs-top\",'data-qa-id':'doctor_experience'})\n",
    "            city=x.find(\"span\",{'data-qa-id':'practice_locality'})\n",
    "            fees=x.find(\"span\",{'data-qa-id':\"consultation_fee\"})\n",
    "            patient_reviews=x.find(\"span\",class_=\"o-label--success u-bold\")\n",
    "            patient_stories=x.find(\"span\",class_=\"u-bold u-t-underline\")\n",
    "            Doctor_availability=x.find(\"span\",{'class':'u-color--green u-bold','data-qa-id':'availability_text'})\n",
    "            Doctor_Location=x.find(\"span\",{'class':'u-t-capitalize','data-qa-id':'practice_city'})\n",
    "            Hospital_name=x.find(\"span\",{'class':'u-c-pointer u-t-hover-underline','data-qa-id':'doctor_clinic_name'})\n",
    "\n",
    "            if Doctor_title is None:\n",
    "                title.append(np.nan)\n",
    "            else:\n",
    "                title.append(Doctor_title.text)\n",
    "            if Doctor_specification is None:\n",
    "                specification.append(np.nan)\n",
    "            else:\n",
    "                specification.append(Doctor_specification.text)\n",
    "            if experience is None:\n",
    "                exp.append(np.nan)\n",
    "            else:\n",
    "                exp.append(experience.text)\n",
    "            if city is None:\n",
    "                area.append(np.nan)\n",
    "            else:\n",
    "                area.append(city.text)\n",
    "            if fees is None:\n",
    "                fee.append(np.nan)\n",
    "            else:\n",
    "                fee.append(fees.text)\n",
    "            if patient_reviews is None:\n",
    "                reviews.append(np.nan)\n",
    "            else:\n",
    "                reviews.append(patient_reviews.text)\n",
    "            if patient_stories is None:\n",
    "                stories.append(np.nan)\n",
    "            else:\n",
    "                stories.append(patient_stories.text)\n",
    "            if Doctor_availability is None:\n",
    "                availability.append(np.nan)\n",
    "            else:\n",
    "                availability.append(Doctor_availability.text)\n",
    "            if Doctor_Location is None:\n",
    "                Location.append(np.nan)\n",
    "            else:\n",
    "                Location.append(Doctor_Location.text)\n",
    "            if Hospital_name is None:\n",
    "                Hospital.append(np.nan)\n",
    "            else:\n",
    "                Hospital.append(Hospital_name.text)\n",
    "                \n",
    "# Checking the length of Each Column in a Program\n",
    "print(\"title----->\",len(title))\n",
    "print(\"specification--->\",len(specification))\n",
    "print(\"exp------>\",len(exp))\n",
    "print(\"area---->\",len(area))\n",
    "print(\"fee---->\",len(fee))\n",
    "print(\"reviews---->\",len(reviews))\n",
    "print(\"stories---->\",len(stories))\n",
    "print(\"availability--->\",len(availability))\n",
    "print(\"Location------>\",len(Location))\n",
    "print(\"Hospital--->\",len(Hospital))\n",
    "\n",
    "                "
   ]
  },
  {
   "cell_type": "code",
   "execution_count": 179,
   "id": "a0e84635",
   "metadata": {},
   "outputs": [],
   "source": [
    "# Sample Data Frame\n",
    "df=pd.DataFrame({\"Name\":title,\"Specialization\":specification,\"Experience\":exp,\"Hospital_name\":Hospital,\"Area\":area,\"City\":Location,\"Consultation_Fee\":fee,\"Doctor_Availability\":availability,\"Recommondations\":reviews,\"No_Of_Stories\":stories})"
   ]
  },
  {
   "cell_type": "code",
   "execution_count": 180,
   "id": "d4ca9457",
   "metadata": {},
   "outputs": [
    {
     "data": {
      "text/html": [
       "<div>\n",
       "<style scoped>\n",
       "    .dataframe tbody tr th:only-of-type {\n",
       "        vertical-align: middle;\n",
       "    }\n",
       "\n",
       "    .dataframe tbody tr th {\n",
       "        vertical-align: top;\n",
       "    }\n",
       "\n",
       "    .dataframe thead th {\n",
       "        text-align: right;\n",
       "    }\n",
       "</style>\n",
       "<table border=\"1\" class=\"dataframe\">\n",
       "  <thead>\n",
       "    <tr style=\"text-align: right;\">\n",
       "      <th></th>\n",
       "      <th>Name</th>\n",
       "      <th>Specialization</th>\n",
       "      <th>Experience</th>\n",
       "      <th>Hospital_name</th>\n",
       "      <th>Area</th>\n",
       "      <th>City</th>\n",
       "      <th>Consultation_Fee</th>\n",
       "      <th>Doctor_Availability</th>\n",
       "      <th>Recommondations</th>\n",
       "      <th>No_Of_Stories</th>\n",
       "    </tr>\n",
       "  </thead>\n",
       "  <tbody>\n",
       "    <tr>\n",
       "      <th>0</th>\n",
       "      <td>NaN</td>\n",
       "      <td>NaN</td>\n",
       "      <td>NaN</td>\n",
       "      <td>NaN</td>\n",
       "      <td>NaN</td>\n",
       "      <td>NaN</td>\n",
       "      <td>NaN</td>\n",
       "      <td>NaN</td>\n",
       "      <td>NaN</td>\n",
       "      <td>NaN</td>\n",
       "    </tr>\n",
       "    <tr>\n",
       "      <th>1</th>\n",
       "      <td>Dr. Deepak Devakar</td>\n",
       "      <td>Dermatologist19 years experience overall</td>\n",
       "      <td>19 years experience overall</td>\n",
       "      <td>Dermasculpt Hair Transplant and Skin Clinic</td>\n",
       "      <td>JP Nagar,</td>\n",
       "      <td>Bangalore</td>\n",
       "      <td>₹600</td>\n",
       "      <td>Available Today</td>\n",
       "      <td>98%</td>\n",
       "      <td>580 Patient Stories</td>\n",
       "    </tr>\n",
       "    <tr>\n",
       "      <th>2</th>\n",
       "      <td>Dr. Vignessh Raj</td>\n",
       "      <td>Dermatologist16 years experience overall</td>\n",
       "      <td>16 years experience overall</td>\n",
       "      <td>Dr. RAJ's Centre for Skin &amp; Hair</td>\n",
       "      <td>Whitefield,</td>\n",
       "      <td>Bangalore</td>\n",
       "      <td>₹700</td>\n",
       "      <td>Available Today</td>\n",
       "      <td>98%</td>\n",
       "      <td>286 Patient Stories</td>\n",
       "    </tr>\n",
       "    <tr>\n",
       "      <th>3</th>\n",
       "      <td>Dr. Neelima Sharma</td>\n",
       "      <td>Dermatologist24 years experience overall</td>\n",
       "      <td>24 years experience overall</td>\n",
       "      <td>Manipal Hospital</td>\n",
       "      <td>Jayanagar 9 Block,</td>\n",
       "      <td>Bangalore</td>\n",
       "      <td>₹650</td>\n",
       "      <td>Available Today</td>\n",
       "      <td>95%</td>\n",
       "      <td>27 Patient Stories</td>\n",
       "    </tr>\n",
       "    <tr>\n",
       "      <th>4</th>\n",
       "      <td>Dr. Parthasarathi Dutta Roy</td>\n",
       "      <td>Dermatologist20 years experience overall</td>\n",
       "      <td>20 years experience overall</td>\n",
       "      <td>Dr. Partha Sarathi's Asian Hair and Skin Hospi...</td>\n",
       "      <td>MG Road,</td>\n",
       "      <td>Bangalore</td>\n",
       "      <td>₹700</td>\n",
       "      <td>Available Today</td>\n",
       "      <td>89%</td>\n",
       "      <td>1314 Patient Stories</td>\n",
       "    </tr>\n",
       "    <tr>\n",
       "      <th>...</th>\n",
       "      <td>...</td>\n",
       "      <td>...</td>\n",
       "      <td>...</td>\n",
       "      <td>...</td>\n",
       "      <td>...</td>\n",
       "      <td>...</td>\n",
       "      <td>...</td>\n",
       "      <td>...</td>\n",
       "      <td>...</td>\n",
       "      <td>...</td>\n",
       "    </tr>\n",
       "    <tr>\n",
       "      <th>2850</th>\n",
       "      <td>Dr. Chayan Kumar Roy</td>\n",
       "      <td>General Physician28 years experience overall</td>\n",
       "      <td>28 years experience overall</td>\n",
       "      <td>Rameswara Nursing Home</td>\n",
       "      <td>Ultadanga,</td>\n",
       "      <td>Kolkata</td>\n",
       "      <td>₹800</td>\n",
       "      <td>Available Today</td>\n",
       "      <td>100%</td>\n",
       "      <td>NaN</td>\n",
       "    </tr>\n",
       "    <tr>\n",
       "      <th>2851</th>\n",
       "      <td>Dr. Dipayan Das</td>\n",
       "      <td>Homoeopath12 years experience overall</td>\n",
       "      <td>12 years experience overall</td>\n",
       "      <td>The Healers</td>\n",
       "      <td>Garia,</td>\n",
       "      <td>Kolkata</td>\n",
       "      <td>₹600</td>\n",
       "      <td>NaN</td>\n",
       "      <td>90%</td>\n",
       "      <td>18 Patient Stories</td>\n",
       "    </tr>\n",
       "    <tr>\n",
       "      <th>2852</th>\n",
       "      <td>Dr. Shyama Prasad Roy</td>\n",
       "      <td>General Physician37 years experience overall</td>\n",
       "      <td>37 years experience overall</td>\n",
       "      <td>Binapani Doctor's Chamber</td>\n",
       "      <td>Jadavpur,</td>\n",
       "      <td>Kolkata</td>\n",
       "      <td>₹700</td>\n",
       "      <td>Available Today</td>\n",
       "      <td>79%</td>\n",
       "      <td>8 Patient Stories</td>\n",
       "    </tr>\n",
       "    <tr>\n",
       "      <th>2853</th>\n",
       "      <td>Dr. Sandip Rungta</td>\n",
       "      <td>General Physician23 years experience overall</td>\n",
       "      <td>23 years experience overall</td>\n",
       "      <td>Mansa Sheel</td>\n",
       "      <td>Beadon Street,</td>\n",
       "      <td>Kolkata</td>\n",
       "      <td>₹700</td>\n",
       "      <td>Available Today</td>\n",
       "      <td>99%</td>\n",
       "      <td>312 Patient Stories</td>\n",
       "    </tr>\n",
       "    <tr>\n",
       "      <th>2854</th>\n",
       "      <td>Dr. Bappaditya Sarkar</td>\n",
       "      <td>Orthopedist21 years experience overall</td>\n",
       "      <td>21 years experience overall</td>\n",
       "      <td>Ashok Polyclinic Nursing Home</td>\n",
       "      <td>Jodhpur Park,</td>\n",
       "      <td>Kolkata</td>\n",
       "      <td>₹800</td>\n",
       "      <td>NaN</td>\n",
       "      <td>97%</td>\n",
       "      <td>20 Patient Stories</td>\n",
       "    </tr>\n",
       "  </tbody>\n",
       "</table>\n",
       "<p>2855 rows × 10 columns</p>\n",
       "</div>"
      ],
      "text/plain": [
       "                             Name  \\\n",
       "0                             NaN   \n",
       "1              Dr. Deepak Devakar   \n",
       "2                Dr. Vignessh Raj   \n",
       "3              Dr. Neelima Sharma   \n",
       "4     Dr. Parthasarathi Dutta Roy   \n",
       "...                           ...   \n",
       "2850         Dr. Chayan Kumar Roy   \n",
       "2851              Dr. Dipayan Das   \n",
       "2852        Dr. Shyama Prasad Roy   \n",
       "2853            Dr. Sandip Rungta   \n",
       "2854        Dr. Bappaditya Sarkar   \n",
       "\n",
       "                                    Specialization  \\\n",
       "0                                              NaN   \n",
       "1         Dermatologist19 years experience overall   \n",
       "2         Dermatologist16 years experience overall   \n",
       "3         Dermatologist24 years experience overall   \n",
       "4         Dermatologist20 years experience overall   \n",
       "...                                            ...   \n",
       "2850  General Physician28 years experience overall   \n",
       "2851         Homoeopath12 years experience overall   \n",
       "2852  General Physician37 years experience overall   \n",
       "2853  General Physician23 years experience overall   \n",
       "2854        Orthopedist21 years experience overall   \n",
       "\n",
       "                       Experience  \\\n",
       "0                             NaN   \n",
       "1     19 years experience overall   \n",
       "2     16 years experience overall   \n",
       "3     24 years experience overall   \n",
       "4     20 years experience overall   \n",
       "...                           ...   \n",
       "2850  28 years experience overall   \n",
       "2851  12 years experience overall   \n",
       "2852  37 years experience overall   \n",
       "2853  23 years experience overall   \n",
       "2854  21 years experience overall   \n",
       "\n",
       "                                          Hospital_name                Area  \\\n",
       "0                                                   NaN                 NaN   \n",
       "1           Dermasculpt Hair Transplant and Skin Clinic           JP Nagar,   \n",
       "2                      Dr. RAJ's Centre for Skin & Hair         Whitefield,   \n",
       "3                                      Manipal Hospital  Jayanagar 9 Block,   \n",
       "4     Dr. Partha Sarathi's Asian Hair and Skin Hospi...            MG Road,   \n",
       "...                                                 ...                 ...   \n",
       "2850                             Rameswara Nursing Home          Ultadanga,   \n",
       "2851                                        The Healers              Garia,   \n",
       "2852                          Binapani Doctor's Chamber           Jadavpur,   \n",
       "2853                                        Mansa Sheel      Beadon Street,   \n",
       "2854                      Ashok Polyclinic Nursing Home       Jodhpur Park,   \n",
       "\n",
       "           City Consultation_Fee Doctor_Availability Recommondations  \\\n",
       "0           NaN              NaN                 NaN             NaN   \n",
       "1     Bangalore             ₹600     Available Today            98%    \n",
       "2     Bangalore             ₹700     Available Today            98%    \n",
       "3     Bangalore             ₹650     Available Today            95%    \n",
       "4     Bangalore             ₹700     Available Today            89%    \n",
       "...         ...              ...                 ...             ...   \n",
       "2850    Kolkata             ₹800     Available Today           100%    \n",
       "2851    Kolkata             ₹600                 NaN            90%    \n",
       "2852    Kolkata             ₹700     Available Today            79%    \n",
       "2853    Kolkata             ₹700     Available Today            99%    \n",
       "2854    Kolkata             ₹800                 NaN            97%    \n",
       "\n",
       "             No_Of_Stories  \n",
       "0                      NaN  \n",
       "1      580 Patient Stories  \n",
       "2      286 Patient Stories  \n",
       "3       27 Patient Stories  \n",
       "4     1314 Patient Stories  \n",
       "...                    ...  \n",
       "2850                   NaN  \n",
       "2851    18 Patient Stories  \n",
       "2852     8 Patient Stories  \n",
       "2853   312 Patient Stories  \n",
       "2854    20 Patient Stories  \n",
       "\n",
       "[2855 rows x 10 columns]"
      ]
     },
     "execution_count": 180,
     "metadata": {},
     "output_type": "execute_result"
    }
   ],
   "source": [
    "df"
   ]
  },
  {
   "cell_type": "code",
   "execution_count": 18,
   "id": "63ce87c7",
   "metadata": {},
   "outputs": [],
   "source": [
    "# #df.to_csv(\"practo_project.csv\")"
   ]
  },
  {
   "cell_type": "code",
   "execution_count": 181,
   "id": "6bbf3f0a",
   "metadata": {},
   "outputs": [],
   "source": [
    "# df = pd.read_csv(\"practo_project.csv\",index_col=0)\n",
    "# df.head()"
   ]
  },
  {
   "cell_type": "markdown",
   "id": "64521c51",
   "metadata": {},
   "source": [
    "# Data Cleaning"
   ]
  },
  {
   "cell_type": "code",
   "execution_count": 182,
   "id": "4ffce69a",
   "metadata": {
    "scrolled": true
   },
   "outputs": [
    {
     "name": "stdout",
     "output_type": "stream",
     "text": [
      "<class 'pandas.core.frame.DataFrame'>\n",
      "RangeIndex: 2855 entries, 0 to 2854\n",
      "Data columns (total 10 columns):\n",
      " #   Column               Non-Null Count  Dtype \n",
      "---  ------               --------------  ----- \n",
      " 0   Name                 2498 non-null   object\n",
      " 1   Specialization       2607 non-null   object\n",
      " 2   Experience           2498 non-null   object\n",
      " 3   Hospital_name        2498 non-null   object\n",
      " 4   Area                 2498 non-null   object\n",
      " 5   City                 2498 non-null   object\n",
      " 6   Consultation_Fee     2278 non-null   object\n",
      " 7   Doctor_Availability  1254 non-null   object\n",
      " 8   Recommondations      2341 non-null   object\n",
      " 9   No_Of_Stories        2270 non-null   object\n",
      "dtypes: object(10)\n",
      "memory usage: 223.2+ KB\n"
     ]
    }
   ],
   "source": [
    "# Checking the Entire Information About the Data Frame\n",
    "df.info()"
   ]
  },
  {
   "cell_type": "code",
   "execution_count": 183,
   "id": "282d84c2",
   "metadata": {},
   "outputs": [
    {
     "data": {
      "text/plain": [
       "Name                    357\n",
       "Specialization          248\n",
       "Experience              357\n",
       "Hospital_name           357\n",
       "Area                    357\n",
       "City                    357\n",
       "Consultation_Fee        577\n",
       "Doctor_Availability    1601\n",
       "Recommondations         514\n",
       "No_Of_Stories           585\n",
       "dtype: int64"
      ]
     },
     "execution_count": 183,
     "metadata": {},
     "output_type": "execute_result"
    }
   ],
   "source": [
    "# Checking the null values before process starts\n",
    "df.isnull().sum()"
   ]
  },
  {
   "cell_type": "code",
   "execution_count": 217,
   "id": "06220e5b",
   "metadata": {},
   "outputs": [],
   "source": [
    "# filling the null values \n",
    "df[\"Doctor_Availability\"].fillna(df[\"Doctor_Availability\"].mode()[0],inplace=True)"
   ]
  },
  {
   "cell_type": "code",
   "execution_count": 218,
   "id": "2fb07b1c",
   "metadata": {},
   "outputs": [],
   "source": [
    "df[\"Recommondations\"].fillna(df[\"Recommondations\"].mode()[0],inplace = True)"
   ]
  },
  {
   "cell_type": "code",
   "execution_count": 219,
   "id": "e6eecd37",
   "metadata": {},
   "outputs": [],
   "source": [
    "df[\"No_Of_Stories\"].fillna(df[\"No_Of_Stories\"].mode()[0],inplace= True)"
   ]
  },
  {
   "cell_type": "code",
   "execution_count": 220,
   "id": "2b035972",
   "metadata": {},
   "outputs": [],
   "source": [
    "df[\"Consultation_Fee\"].fillna(df[\"Consultation_Fee\"].mode()[0],inplace= True)"
   ]
  },
  {
   "cell_type": "code",
   "execution_count": 221,
   "id": "218ee05f",
   "metadata": {},
   "outputs": [],
   "source": [
    "df[\"Experience\"].fillna(df[\"Experience\"].mode()[0],inplace= True)"
   ]
  },
  {
   "cell_type": "code",
   "execution_count": 224,
   "id": "987a0900",
   "metadata": {},
   "outputs": [
    {
     "data": {
      "text/plain": [
       "Name                   357\n",
       "Specialization         248\n",
       "Experience               0\n",
       "Hospital_name          357\n",
       "Area                   357\n",
       "City                   357\n",
       "Consultation_Fee         0\n",
       "Doctor_Availability      0\n",
       "Recommondations          0\n",
       "No_Of_Stories            0\n",
       "dtype: int64"
      ]
     },
     "execution_count": 224,
     "metadata": {},
     "output_type": "execute_result"
    }
   ],
   "source": [
    "# checking any null values\n",
    "df.isnull().sum()"
   ]
  },
  {
   "cell_type": "code",
   "execution_count": 223,
   "id": "ec60ecf0",
   "metadata": {},
   "outputs": [],
   "source": [
    "# Dropping all null values in the sample dataframe\n",
    "df1=df.dropna(subset=[\"Name\",\"Specialization\",\"Area\",\"City\",\"Hospital_name\"])"
   ]
  },
  {
   "cell_type": "code",
   "execution_count": 225,
   "id": "0380d64f",
   "metadata": {},
   "outputs": [
    {
     "data": {
      "text/html": [
       "<div>\n",
       "<style scoped>\n",
       "    .dataframe tbody tr th:only-of-type {\n",
       "        vertical-align: middle;\n",
       "    }\n",
       "\n",
       "    .dataframe tbody tr th {\n",
       "        vertical-align: top;\n",
       "    }\n",
       "\n",
       "    .dataframe thead th {\n",
       "        text-align: right;\n",
       "    }\n",
       "</style>\n",
       "<table border=\"1\" class=\"dataframe\">\n",
       "  <thead>\n",
       "    <tr style=\"text-align: right;\">\n",
       "      <th></th>\n",
       "      <th>Name</th>\n",
       "      <th>Specialization</th>\n",
       "      <th>Experience</th>\n",
       "      <th>Hospital_name</th>\n",
       "      <th>Area</th>\n",
       "      <th>City</th>\n",
       "      <th>Consultation_Fee</th>\n",
       "      <th>Doctor_Availability</th>\n",
       "      <th>Recommondations</th>\n",
       "      <th>No_Of_Stories</th>\n",
       "    </tr>\n",
       "  </thead>\n",
       "  <tbody>\n",
       "    <tr>\n",
       "      <th>1</th>\n",
       "      <td>Dr. Deepak Devakar</td>\n",
       "      <td>Dermatologist19 years experience overall</td>\n",
       "      <td>19 years experience overall</td>\n",
       "      <td>Dermasculpt Hair Transplant and Skin Clinic</td>\n",
       "      <td>JP Nagar,</td>\n",
       "      <td>Bangalore</td>\n",
       "      <td>₹600</td>\n",
       "      <td>Available Today</td>\n",
       "      <td>98%</td>\n",
       "      <td>580 Patient Stories</td>\n",
       "    </tr>\n",
       "    <tr>\n",
       "      <th>2</th>\n",
       "      <td>Dr. Vignessh Raj</td>\n",
       "      <td>Dermatologist16 years experience overall</td>\n",
       "      <td>16 years experience overall</td>\n",
       "      <td>Dr. RAJ's Centre for Skin &amp; Hair</td>\n",
       "      <td>Whitefield,</td>\n",
       "      <td>Bangalore</td>\n",
       "      <td>₹700</td>\n",
       "      <td>Available Today</td>\n",
       "      <td>98%</td>\n",
       "      <td>286 Patient Stories</td>\n",
       "    </tr>\n",
       "    <tr>\n",
       "      <th>3</th>\n",
       "      <td>Dr. Neelima Sharma</td>\n",
       "      <td>Dermatologist24 years experience overall</td>\n",
       "      <td>24 years experience overall</td>\n",
       "      <td>Manipal Hospital</td>\n",
       "      <td>Jayanagar 9 Block,</td>\n",
       "      <td>Bangalore</td>\n",
       "      <td>₹650</td>\n",
       "      <td>Available Today</td>\n",
       "      <td>95%</td>\n",
       "      <td>27 Patient Stories</td>\n",
       "    </tr>\n",
       "    <tr>\n",
       "      <th>4</th>\n",
       "      <td>Dr. Parthasarathi Dutta Roy</td>\n",
       "      <td>Dermatologist20 years experience overall</td>\n",
       "      <td>20 years experience overall</td>\n",
       "      <td>Dr. Partha Sarathi's Asian Hair and Skin Hospi...</td>\n",
       "      <td>MG Road,</td>\n",
       "      <td>Bangalore</td>\n",
       "      <td>₹700</td>\n",
       "      <td>Available Today</td>\n",
       "      <td>89%</td>\n",
       "      <td>1314 Patient Stories</td>\n",
       "    </tr>\n",
       "    <tr>\n",
       "      <th>5</th>\n",
       "      <td>Dr. Jyothi Menon</td>\n",
       "      <td>Dermatologist22 years experience overall</td>\n",
       "      <td>22 years experience overall</td>\n",
       "      <td>Oliva Skin &amp; Hair Clinic</td>\n",
       "      <td>Koramangala 7 Block,</td>\n",
       "      <td>Bangalore</td>\n",
       "      <td>₹600</td>\n",
       "      <td>Available Today</td>\n",
       "      <td>96%</td>\n",
       "      <td>33 Patient Stories</td>\n",
       "    </tr>\n",
       "    <tr>\n",
       "      <th>...</th>\n",
       "      <td>...</td>\n",
       "      <td>...</td>\n",
       "      <td>...</td>\n",
       "      <td>...</td>\n",
       "      <td>...</td>\n",
       "      <td>...</td>\n",
       "      <td>...</td>\n",
       "      <td>...</td>\n",
       "      <td>...</td>\n",
       "      <td>...</td>\n",
       "    </tr>\n",
       "    <tr>\n",
       "      <th>2850</th>\n",
       "      <td>Dr. Chayan Kumar Roy</td>\n",
       "      <td>General Physician28 years experience overall</td>\n",
       "      <td>28 years experience overall</td>\n",
       "      <td>Rameswara Nursing Home</td>\n",
       "      <td>Ultadanga,</td>\n",
       "      <td>Kolkata</td>\n",
       "      <td>₹800</td>\n",
       "      <td>Available Today</td>\n",
       "      <td>100%</td>\n",
       "      <td>1 Patient Story</td>\n",
       "    </tr>\n",
       "    <tr>\n",
       "      <th>2851</th>\n",
       "      <td>Dr. Dipayan Das</td>\n",
       "      <td>Homoeopath12 years experience overall</td>\n",
       "      <td>12 years experience overall</td>\n",
       "      <td>The Healers</td>\n",
       "      <td>Garia,</td>\n",
       "      <td>Kolkata</td>\n",
       "      <td>₹600</td>\n",
       "      <td>Available Today</td>\n",
       "      <td>90%</td>\n",
       "      <td>18 Patient Stories</td>\n",
       "    </tr>\n",
       "    <tr>\n",
       "      <th>2852</th>\n",
       "      <td>Dr. Shyama Prasad Roy</td>\n",
       "      <td>General Physician37 years experience overall</td>\n",
       "      <td>37 years experience overall</td>\n",
       "      <td>Binapani Doctor's Chamber</td>\n",
       "      <td>Jadavpur,</td>\n",
       "      <td>Kolkata</td>\n",
       "      <td>₹700</td>\n",
       "      <td>Available Today</td>\n",
       "      <td>79%</td>\n",
       "      <td>8 Patient Stories</td>\n",
       "    </tr>\n",
       "    <tr>\n",
       "      <th>2853</th>\n",
       "      <td>Dr. Sandip Rungta</td>\n",
       "      <td>General Physician23 years experience overall</td>\n",
       "      <td>23 years experience overall</td>\n",
       "      <td>Mansa Sheel</td>\n",
       "      <td>Beadon Street,</td>\n",
       "      <td>Kolkata</td>\n",
       "      <td>₹700</td>\n",
       "      <td>Available Today</td>\n",
       "      <td>99%</td>\n",
       "      <td>312 Patient Stories</td>\n",
       "    </tr>\n",
       "    <tr>\n",
       "      <th>2854</th>\n",
       "      <td>Dr. Bappaditya Sarkar</td>\n",
       "      <td>Orthopedist21 years experience overall</td>\n",
       "      <td>21 years experience overall</td>\n",
       "      <td>Ashok Polyclinic Nursing Home</td>\n",
       "      <td>Jodhpur Park,</td>\n",
       "      <td>Kolkata</td>\n",
       "      <td>₹800</td>\n",
       "      <td>Available Today</td>\n",
       "      <td>97%</td>\n",
       "      <td>20 Patient Stories</td>\n",
       "    </tr>\n",
       "  </tbody>\n",
       "</table>\n",
       "<p>2498 rows × 10 columns</p>\n",
       "</div>"
      ],
      "text/plain": [
       "                             Name  \\\n",
       "1              Dr. Deepak Devakar   \n",
       "2                Dr. Vignessh Raj   \n",
       "3              Dr. Neelima Sharma   \n",
       "4     Dr. Parthasarathi Dutta Roy   \n",
       "5                Dr. Jyothi Menon   \n",
       "...                           ...   \n",
       "2850         Dr. Chayan Kumar Roy   \n",
       "2851              Dr. Dipayan Das   \n",
       "2852        Dr. Shyama Prasad Roy   \n",
       "2853            Dr. Sandip Rungta   \n",
       "2854        Dr. Bappaditya Sarkar   \n",
       "\n",
       "                                    Specialization  \\\n",
       "1         Dermatologist19 years experience overall   \n",
       "2         Dermatologist16 years experience overall   \n",
       "3         Dermatologist24 years experience overall   \n",
       "4         Dermatologist20 years experience overall   \n",
       "5         Dermatologist22 years experience overall   \n",
       "...                                            ...   \n",
       "2850  General Physician28 years experience overall   \n",
       "2851         Homoeopath12 years experience overall   \n",
       "2852  General Physician37 years experience overall   \n",
       "2853  General Physician23 years experience overall   \n",
       "2854        Orthopedist21 years experience overall   \n",
       "\n",
       "                       Experience  \\\n",
       "1     19 years experience overall   \n",
       "2     16 years experience overall   \n",
       "3     24 years experience overall   \n",
       "4     20 years experience overall   \n",
       "5     22 years experience overall   \n",
       "...                           ...   \n",
       "2850  28 years experience overall   \n",
       "2851  12 years experience overall   \n",
       "2852  37 years experience overall   \n",
       "2853  23 years experience overall   \n",
       "2854  21 years experience overall   \n",
       "\n",
       "                                          Hospital_name                  Area  \\\n",
       "1           Dermasculpt Hair Transplant and Skin Clinic             JP Nagar,   \n",
       "2                      Dr. RAJ's Centre for Skin & Hair           Whitefield,   \n",
       "3                                      Manipal Hospital    Jayanagar 9 Block,   \n",
       "4     Dr. Partha Sarathi's Asian Hair and Skin Hospi...              MG Road,   \n",
       "5                              Oliva Skin & Hair Clinic  Koramangala 7 Block,   \n",
       "...                                                 ...                   ...   \n",
       "2850                             Rameswara Nursing Home            Ultadanga,   \n",
       "2851                                        The Healers                Garia,   \n",
       "2852                          Binapani Doctor's Chamber             Jadavpur,   \n",
       "2853                                        Mansa Sheel        Beadon Street,   \n",
       "2854                      Ashok Polyclinic Nursing Home         Jodhpur Park,   \n",
       "\n",
       "           City Consultation_Fee Doctor_Availability Recommondations  \\\n",
       "1     Bangalore             ₹600     Available Today            98%    \n",
       "2     Bangalore             ₹700     Available Today            98%    \n",
       "3     Bangalore             ₹650     Available Today            95%    \n",
       "4     Bangalore             ₹700     Available Today            89%    \n",
       "5     Bangalore             ₹600     Available Today            96%    \n",
       "...         ...              ...                 ...             ...   \n",
       "2850    Kolkata             ₹800     Available Today           100%    \n",
       "2851    Kolkata             ₹600     Available Today            90%    \n",
       "2852    Kolkata             ₹700     Available Today            79%    \n",
       "2853    Kolkata             ₹700     Available Today            99%    \n",
       "2854    Kolkata             ₹800     Available Today            97%    \n",
       "\n",
       "             No_Of_Stories  \n",
       "1      580 Patient Stories  \n",
       "2      286 Patient Stories  \n",
       "3       27 Patient Stories  \n",
       "4     1314 Patient Stories  \n",
       "5       33 Patient Stories  \n",
       "...                    ...  \n",
       "2850       1 Patient Story  \n",
       "2851    18 Patient Stories  \n",
       "2852     8 Patient Stories  \n",
       "2853   312 Patient Stories  \n",
       "2854    20 Patient Stories  \n",
       "\n",
       "[2498 rows x 10 columns]"
      ]
     },
     "execution_count": 225,
     "metadata": {},
     "output_type": "execute_result"
    }
   ],
   "source": [
    "df1"
   ]
  },
  {
   "cell_type": "code",
   "execution_count": 243,
   "id": "f4ab47c8",
   "metadata": {},
   "outputs": [
    {
     "data": {
      "text/plain": [
       "1       600\n",
       "2       700\n",
       "3       650\n",
       "4       700\n",
       "5       600\n",
       "       ... \n",
       "2850    800\n",
       "2851    600\n",
       "2852    700\n",
       "2853    700\n",
       "2854    800\n",
       "Name: Consultation_Fee, Length: 2498, dtype: object"
      ]
     },
     "execution_count": 243,
     "metadata": {},
     "output_type": "execute_result"
    }
   ],
   "source": [
    "# using lambda to replace in consultation fee column\n",
    "fee = df1[\"Consultation_Fee\"].apply(lambda x:x.replace('₹','').replace('Free Consultation',\"0\"))\n",
    "fee"
   ]
  },
  {
   "cell_type": "code",
   "execution_count": 227,
   "id": "1fe09c24",
   "metadata": {},
   "outputs": [
    {
     "data": {
      "text/plain": [
       "1       19 \n",
       "2       16 \n",
       "3       24 \n",
       "4       20 \n",
       "5       22 \n",
       "       ... \n",
       "2850    28 \n",
       "2851    12 \n",
       "2852    37 \n",
       "2853    23 \n",
       "2854    21 \n",
       "Name: Experience, Length: 2498, dtype: object"
      ]
     },
     "execution_count": 227,
     "metadata": {},
     "output_type": "execute_result"
    }
   ],
   "source": [
    "# using lambda to replace in experience column\n",
    "exp = df1[\"Experience\"].apply(lambda x:x.replace(\"years experience overall\",\"\"))\n",
    "exp"
   ]
  },
  {
   "cell_type": "code",
   "execution_count": 228,
   "id": "ad71c7cf",
   "metadata": {},
   "outputs": [
    {
     "data": {
      "text/plain": [
       "1        98 \n",
       "2        98 \n",
       "3        95 \n",
       "4        89 \n",
       "5        96 \n",
       "        ... \n",
       "2850    100 \n",
       "2851     90 \n",
       "2852     79 \n",
       "2853     99 \n",
       "2854     97 \n",
       "Name: Recommondations, Length: 2498, dtype: object"
      ]
     },
     "execution_count": 228,
     "metadata": {},
     "output_type": "execute_result"
    }
   ],
   "source": [
    "# using lambda to replace in recommandations column\n",
    "rate = df1[\"Recommondations\"].apply(lambda x:x.replace(\"%\",\"\"))\n",
    "rate"
   ]
  },
  {
   "cell_type": "code",
   "execution_count": 229,
   "id": "42e1b853",
   "metadata": {},
   "outputs": [
    {
     "data": {
      "text/plain": [
       "1        580 \n",
       "2        286 \n",
       "3         27 \n",
       "4       1314 \n",
       "5         33 \n",
       "        ...  \n",
       "2850       1 \n",
       "2851      18 \n",
       "2852       8 \n",
       "2853     312 \n",
       "2854      20 \n",
       "Name: No_Of_Stories, Length: 2498, dtype: object"
      ]
     },
     "execution_count": 229,
     "metadata": {},
     "output_type": "execute_result"
    }
   ],
   "source": [
    "# using lambda to replace in patient stories column\n",
    "stories = df1[\"No_Of_Stories\"].apply(lambda x:x.replace(\"Patient Stories\",\"\").replace(\"Patient Story\",\"\"))\n",
    "stories"
   ]
  },
  {
   "cell_type": "code",
   "execution_count": 230,
   "id": "0be3ca49",
   "metadata": {},
   "outputs": [
    {
     "data": {
      "text/plain": [
       "1                  JP Nagar\n",
       "2                Whitefield\n",
       "3         Jayanagar 9 Block\n",
       "4                   MG Road\n",
       "5       Koramangala 7 Block\n",
       "               ...         \n",
       "2850              Ultadanga\n",
       "2851                  Garia\n",
       "2852               Jadavpur\n",
       "2853          Beadon Street\n",
       "2854           Jodhpur Park\n",
       "Name: Area, Length: 2498, dtype: object"
      ]
     },
     "execution_count": 230,
     "metadata": {},
     "output_type": "execute_result"
    }
   ],
   "source": [
    "# removing (,) in  area column by using lambda\n",
    "are=df1['Area'].apply(lambda x:x.replace(\",\",''))\n",
    "are"
   ]
  },
  {
   "cell_type": "code",
   "execution_count": 231,
   "id": "38dd42b6",
   "metadata": {},
   "outputs": [
    {
     "data": {
      "text/plain": [
       "1        Today\n",
       "2        Today\n",
       "3        Today\n",
       "4        Today\n",
       "5        Today\n",
       "         ...  \n",
       "2850     Today\n",
       "2851     Today\n",
       "2852     Today\n",
       "2853     Today\n",
       "2854     Today\n",
       "Name: Doctor_Availability, Length: 2498, dtype: object"
      ]
     },
     "execution_count": 231,
     "metadata": {},
     "output_type": "execute_result"
    }
   ],
   "source": [
    "# Regex for Doctor_availability\n",
    "avail=df1['Doctor_Availability'].apply(lambda x:x.replace(\"Available\",''))\n",
    "avail"
   ]
  },
  {
   "cell_type": "code",
   "execution_count": 232,
   "id": "6f32e9bd",
   "metadata": {},
   "outputs": [
    {
     "data": {
      "text/plain": [
       "1           Dermatologist\n",
       "2           Dermatologist\n",
       "3           Dermatologist\n",
       "4           Dermatologist\n",
       "5           Dermatologist\n",
       "              ...        \n",
       "2850    General Physician\n",
       "2851           Homoeopath\n",
       "2852    General Physician\n",
       "2853    General Physician\n",
       "2854                     \n",
       "Name: Specialization, Length: 2498, dtype: object"
      ]
     },
     "execution_count": 232,
     "metadata": {},
     "output_type": "execute_result"
    }
   ],
   "source": [
    "# Specialization regex\n",
    "spc=df1[\"Specialization\"].apply(lambda x: str(re.findall(\"Dentist|Gynecologist\\/Obstetrician|General Physician|Ear-Nose-Throat \\(ENT\\)|Ayurveda|Dermatologist|Homoeopath\",str(x))).replace('[',\"\").replace(']',\"\").replace(\"'\",\"\"))\n",
    "spc"
   ]
  },
  {
   "cell_type": "code",
   "execution_count": 233,
   "id": "1417e588",
   "metadata": {},
   "outputs": [
    {
     "data": {
      "text/plain": [
       "1             Dermasculpt Hair Transplant and Skin Clinic\n",
       "2                        Dr. RAJ's Centre for Skin & Hair\n",
       "3                                        Manipal Hospital\n",
       "4       Dr. Partha Sarathi's Asian Hair and Skin Hospi...\n",
       "5                                Oliva Skin & Hair Clinic\n",
       "                              ...                        \n",
       "2850                               Rameswara Nursing Home\n",
       "2851                                          The Healers\n",
       "2852                            Binapani Doctor's Chamber\n",
       "2853                                          Mansa Sheel\n",
       "2854                        Ashok Polyclinic Nursing Home\n",
       "Name: Hospital_name, Length: 2498, dtype: object"
      ]
     },
     "execution_count": 233,
     "metadata": {},
     "output_type": "execute_result"
    }
   ],
   "source": [
    "# printing Hospital_name column\n",
    "hsp=df1['Hospital_name']\n",
    "hsp"
   ]
  },
  {
   "cell_type": "code",
   "execution_count": 234,
   "id": "e4e129ad",
   "metadata": {},
   "outputs": [
    {
     "data": {
      "text/plain": [
       "1       Bangalore\n",
       "2       Bangalore\n",
       "3       Bangalore\n",
       "4       Bangalore\n",
       "5       Bangalore\n",
       "          ...    \n",
       "2850      Kolkata\n",
       "2851      Kolkata\n",
       "2852      Kolkata\n",
       "2853      Kolkata\n",
       "2854      Kolkata\n",
       "Name: City, Length: 2498, dtype: object"
      ]
     },
     "execution_count": 234,
     "metadata": {},
     "output_type": "execute_result"
    }
   ],
   "source": [
    "# printing City column\n",
    "pla=df1['City']\n",
    "pla"
   ]
  },
  {
   "cell_type": "code",
   "execution_count": 235,
   "id": "f7b985df",
   "metadata": {},
   "outputs": [
    {
     "data": {
      "text/plain": [
       "1                Dr. Deepak Devakar\n",
       "2                  Dr. Vignessh Raj\n",
       "3                Dr. Neelima Sharma\n",
       "4       Dr. Parthasarathi Dutta Roy\n",
       "5                  Dr. Jyothi Menon\n",
       "                   ...             \n",
       "2850           Dr. Chayan Kumar Roy\n",
       "2851                Dr. Dipayan Das\n",
       "2852          Dr. Shyama Prasad Roy\n",
       "2853              Dr. Sandip Rungta\n",
       "2854          Dr. Bappaditya Sarkar\n",
       "Name: Name, Length: 2498, dtype: object"
      ]
     },
     "execution_count": 235,
     "metadata": {},
     "output_type": "execute_result"
    }
   ],
   "source": [
    "# printing the names column\n",
    "na = df1[\"Name\"]\n",
    "na"
   ]
  },
  {
   "cell_type": "code",
   "execution_count": 244,
   "id": "def1d91a",
   "metadata": {},
   "outputs": [],
   "source": [
    "# After Cleaning the Data Storing the Values In a Another Data Frame\n",
    "# Sample 01 Data Frame\n",
    "df2=pd.DataFrame({\"Names\":na,\"Specialization\":spc,\"Experience\":exp,\"Hospital_Name\":hsp,\"Area\":are,'City':pla,\"Consultation_Fee\":fee,\"Doctor_recommondations\":rate,\"Patient_Stories\":stories,\"Doctor_availability\":avail})"
   ]
  },
  {
   "cell_type": "code",
   "execution_count": 245,
   "id": "4586629d",
   "metadata": {},
   "outputs": [
    {
     "data": {
      "text/html": [
       "<div>\n",
       "<style scoped>\n",
       "    .dataframe tbody tr th:only-of-type {\n",
       "        vertical-align: middle;\n",
       "    }\n",
       "\n",
       "    .dataframe tbody tr th {\n",
       "        vertical-align: top;\n",
       "    }\n",
       "\n",
       "    .dataframe thead th {\n",
       "        text-align: right;\n",
       "    }\n",
       "</style>\n",
       "<table border=\"1\" class=\"dataframe\">\n",
       "  <thead>\n",
       "    <tr style=\"text-align: right;\">\n",
       "      <th></th>\n",
       "      <th>Names</th>\n",
       "      <th>Specialization</th>\n",
       "      <th>Experience</th>\n",
       "      <th>Hospital_Name</th>\n",
       "      <th>Area</th>\n",
       "      <th>City</th>\n",
       "      <th>Consultation_Fee</th>\n",
       "      <th>Doctor_recommondations</th>\n",
       "      <th>Patient_Stories</th>\n",
       "      <th>Doctor_availability</th>\n",
       "    </tr>\n",
       "  </thead>\n",
       "  <tbody>\n",
       "    <tr>\n",
       "      <th>1</th>\n",
       "      <td>Dr. Deepak Devakar</td>\n",
       "      <td>Dermatologist</td>\n",
       "      <td>19</td>\n",
       "      <td>Dermasculpt Hair Transplant and Skin Clinic</td>\n",
       "      <td>JP Nagar</td>\n",
       "      <td>Bangalore</td>\n",
       "      <td>600</td>\n",
       "      <td>98</td>\n",
       "      <td>580</td>\n",
       "      <td>Today</td>\n",
       "    </tr>\n",
       "    <tr>\n",
       "      <th>2</th>\n",
       "      <td>Dr. Vignessh Raj</td>\n",
       "      <td>Dermatologist</td>\n",
       "      <td>16</td>\n",
       "      <td>Dr. RAJ's Centre for Skin &amp; Hair</td>\n",
       "      <td>Whitefield</td>\n",
       "      <td>Bangalore</td>\n",
       "      <td>700</td>\n",
       "      <td>98</td>\n",
       "      <td>286</td>\n",
       "      <td>Today</td>\n",
       "    </tr>\n",
       "    <tr>\n",
       "      <th>3</th>\n",
       "      <td>Dr. Neelima Sharma</td>\n",
       "      <td>Dermatologist</td>\n",
       "      <td>24</td>\n",
       "      <td>Manipal Hospital</td>\n",
       "      <td>Jayanagar 9 Block</td>\n",
       "      <td>Bangalore</td>\n",
       "      <td>650</td>\n",
       "      <td>95</td>\n",
       "      <td>27</td>\n",
       "      <td>Today</td>\n",
       "    </tr>\n",
       "    <tr>\n",
       "      <th>4</th>\n",
       "      <td>Dr. Parthasarathi Dutta Roy</td>\n",
       "      <td>Dermatologist</td>\n",
       "      <td>20</td>\n",
       "      <td>Dr. Partha Sarathi's Asian Hair and Skin Hospi...</td>\n",
       "      <td>MG Road</td>\n",
       "      <td>Bangalore</td>\n",
       "      <td>700</td>\n",
       "      <td>89</td>\n",
       "      <td>1314</td>\n",
       "      <td>Today</td>\n",
       "    </tr>\n",
       "    <tr>\n",
       "      <th>5</th>\n",
       "      <td>Dr. Jyothi Menon</td>\n",
       "      <td>Dermatologist</td>\n",
       "      <td>22</td>\n",
       "      <td>Oliva Skin &amp; Hair Clinic</td>\n",
       "      <td>Koramangala 7 Block</td>\n",
       "      <td>Bangalore</td>\n",
       "      <td>600</td>\n",
       "      <td>96</td>\n",
       "      <td>33</td>\n",
       "      <td>Today</td>\n",
       "    </tr>\n",
       "    <tr>\n",
       "      <th>...</th>\n",
       "      <td>...</td>\n",
       "      <td>...</td>\n",
       "      <td>...</td>\n",
       "      <td>...</td>\n",
       "      <td>...</td>\n",
       "      <td>...</td>\n",
       "      <td>...</td>\n",
       "      <td>...</td>\n",
       "      <td>...</td>\n",
       "      <td>...</td>\n",
       "    </tr>\n",
       "    <tr>\n",
       "      <th>2850</th>\n",
       "      <td>Dr. Chayan Kumar Roy</td>\n",
       "      <td>General Physician</td>\n",
       "      <td>28</td>\n",
       "      <td>Rameswara Nursing Home</td>\n",
       "      <td>Ultadanga</td>\n",
       "      <td>Kolkata</td>\n",
       "      <td>800</td>\n",
       "      <td>100</td>\n",
       "      <td>1</td>\n",
       "      <td>Today</td>\n",
       "    </tr>\n",
       "    <tr>\n",
       "      <th>2851</th>\n",
       "      <td>Dr. Dipayan Das</td>\n",
       "      <td>Homoeopath</td>\n",
       "      <td>12</td>\n",
       "      <td>The Healers</td>\n",
       "      <td>Garia</td>\n",
       "      <td>Kolkata</td>\n",
       "      <td>600</td>\n",
       "      <td>90</td>\n",
       "      <td>18</td>\n",
       "      <td>Today</td>\n",
       "    </tr>\n",
       "    <tr>\n",
       "      <th>2852</th>\n",
       "      <td>Dr. Shyama Prasad Roy</td>\n",
       "      <td>General Physician</td>\n",
       "      <td>37</td>\n",
       "      <td>Binapani Doctor's Chamber</td>\n",
       "      <td>Jadavpur</td>\n",
       "      <td>Kolkata</td>\n",
       "      <td>700</td>\n",
       "      <td>79</td>\n",
       "      <td>8</td>\n",
       "      <td>Today</td>\n",
       "    </tr>\n",
       "    <tr>\n",
       "      <th>2853</th>\n",
       "      <td>Dr. Sandip Rungta</td>\n",
       "      <td>General Physician</td>\n",
       "      <td>23</td>\n",
       "      <td>Mansa Sheel</td>\n",
       "      <td>Beadon Street</td>\n",
       "      <td>Kolkata</td>\n",
       "      <td>700</td>\n",
       "      <td>99</td>\n",
       "      <td>312</td>\n",
       "      <td>Today</td>\n",
       "    </tr>\n",
       "    <tr>\n",
       "      <th>2854</th>\n",
       "      <td>Dr. Bappaditya Sarkar</td>\n",
       "      <td></td>\n",
       "      <td>21</td>\n",
       "      <td>Ashok Polyclinic Nursing Home</td>\n",
       "      <td>Jodhpur Park</td>\n",
       "      <td>Kolkata</td>\n",
       "      <td>800</td>\n",
       "      <td>97</td>\n",
       "      <td>20</td>\n",
       "      <td>Today</td>\n",
       "    </tr>\n",
       "  </tbody>\n",
       "</table>\n",
       "<p>2498 rows × 10 columns</p>\n",
       "</div>"
      ],
      "text/plain": [
       "                            Names     Specialization Experience  \\\n",
       "1              Dr. Deepak Devakar      Dermatologist        19    \n",
       "2                Dr. Vignessh Raj      Dermatologist        16    \n",
       "3              Dr. Neelima Sharma      Dermatologist        24    \n",
       "4     Dr. Parthasarathi Dutta Roy      Dermatologist        20    \n",
       "5                Dr. Jyothi Menon      Dermatologist        22    \n",
       "...                           ...                ...        ...   \n",
       "2850         Dr. Chayan Kumar Roy  General Physician        28    \n",
       "2851              Dr. Dipayan Das         Homoeopath        12    \n",
       "2852        Dr. Shyama Prasad Roy  General Physician        37    \n",
       "2853            Dr. Sandip Rungta  General Physician        23    \n",
       "2854        Dr. Bappaditya Sarkar                           21    \n",
       "\n",
       "                                          Hospital_Name                 Area  \\\n",
       "1           Dermasculpt Hair Transplant and Skin Clinic             JP Nagar   \n",
       "2                      Dr. RAJ's Centre for Skin & Hair           Whitefield   \n",
       "3                                      Manipal Hospital    Jayanagar 9 Block   \n",
       "4     Dr. Partha Sarathi's Asian Hair and Skin Hospi...              MG Road   \n",
       "5                              Oliva Skin & Hair Clinic  Koramangala 7 Block   \n",
       "...                                                 ...                  ...   \n",
       "2850                             Rameswara Nursing Home            Ultadanga   \n",
       "2851                                        The Healers                Garia   \n",
       "2852                          Binapani Doctor's Chamber             Jadavpur   \n",
       "2853                                        Mansa Sheel        Beadon Street   \n",
       "2854                      Ashok Polyclinic Nursing Home         Jodhpur Park   \n",
       "\n",
       "           City Consultation_Fee Doctor_recommondations Patient_Stories  \\\n",
       "1     Bangalore              600                    98             580    \n",
       "2     Bangalore              700                    98             286    \n",
       "3     Bangalore              650                    95              27    \n",
       "4     Bangalore              700                    89            1314    \n",
       "5     Bangalore              600                    96              33    \n",
       "...         ...              ...                    ...             ...   \n",
       "2850    Kolkata              800                   100               1    \n",
       "2851    Kolkata              600                    90              18    \n",
       "2852    Kolkata              700                    79               8    \n",
       "2853    Kolkata              700                    99             312    \n",
       "2854    Kolkata              800                    97              20    \n",
       "\n",
       "     Doctor_availability  \n",
       "1                  Today  \n",
       "2                  Today  \n",
       "3                  Today  \n",
       "4                  Today  \n",
       "5                  Today  \n",
       "...                  ...  \n",
       "2850               Today  \n",
       "2851               Today  \n",
       "2852               Today  \n",
       "2853               Today  \n",
       "2854               Today  \n",
       "\n",
       "[2498 rows x 10 columns]"
      ]
     },
     "execution_count": 245,
     "metadata": {},
     "output_type": "execute_result"
    }
   ],
   "source": [
    "df2"
   ]
  },
  {
   "cell_type": "code",
   "execution_count": 238,
   "id": "cdc128ba",
   "metadata": {},
   "outputs": [
    {
     "data": {
      "text/plain": [
       "Names                     0\n",
       "Specialization            0\n",
       "Experience                0\n",
       "Hospital_Name             0\n",
       "Area                      0\n",
       "City                      0\n",
       "Consultation_Fee          0\n",
       "Doctor_recommondations    0\n",
       "Patient_Stories           0\n",
       "Doctor_availability       0\n",
       "dtype: int64"
      ]
     },
     "execution_count": 238,
     "metadata": {},
     "output_type": "execute_result"
    }
   ],
   "source": [
    "# checking the null values\n",
    "df2.isnull().sum()"
   ]
  },
  {
   "cell_type": "code",
   "execution_count": 246,
   "id": "b5dc35dc",
   "metadata": {},
   "outputs": [],
   "source": [
    "#df2.to_csv(\"practo_inprogress.csv\")"
   ]
  },
  {
   "cell_type": "code",
   "execution_count": 247,
   "id": "8dec0aba",
   "metadata": {},
   "outputs": [
    {
     "data": {
      "text/html": [
       "<div>\n",
       "<style scoped>\n",
       "    .dataframe tbody tr th:only-of-type {\n",
       "        vertical-align: middle;\n",
       "    }\n",
       "\n",
       "    .dataframe tbody tr th {\n",
       "        vertical-align: top;\n",
       "    }\n",
       "\n",
       "    .dataframe thead th {\n",
       "        text-align: right;\n",
       "    }\n",
       "</style>\n",
       "<table border=\"1\" class=\"dataframe\">\n",
       "  <thead>\n",
       "    <tr style=\"text-align: right;\">\n",
       "      <th></th>\n",
       "      <th>Names</th>\n",
       "      <th>Specialization</th>\n",
       "      <th>Experience</th>\n",
       "      <th>Hospital_Name</th>\n",
       "      <th>Area</th>\n",
       "      <th>City</th>\n",
       "      <th>Consultation_Fee</th>\n",
       "      <th>Doctor_recommondations</th>\n",
       "      <th>Patient_Stories</th>\n",
       "      <th>Doctor_availability</th>\n",
       "    </tr>\n",
       "  </thead>\n",
       "  <tbody>\n",
       "    <tr>\n",
       "      <th>1</th>\n",
       "      <td>Dr. Deepak Devakar</td>\n",
       "      <td>Dermatologist</td>\n",
       "      <td>19</td>\n",
       "      <td>Dermasculpt Hair Transplant and Skin Clinic</td>\n",
       "      <td>JP Nagar</td>\n",
       "      <td>Bangalore</td>\n",
       "      <td>600</td>\n",
       "      <td>98</td>\n",
       "      <td>580</td>\n",
       "      <td>Today</td>\n",
       "    </tr>\n",
       "    <tr>\n",
       "      <th>2</th>\n",
       "      <td>Dr. Vignessh Raj</td>\n",
       "      <td>Dermatologist</td>\n",
       "      <td>16</td>\n",
       "      <td>Dr. RAJ's Centre for Skin &amp; Hair</td>\n",
       "      <td>Whitefield</td>\n",
       "      <td>Bangalore</td>\n",
       "      <td>700</td>\n",
       "      <td>98</td>\n",
       "      <td>286</td>\n",
       "      <td>Today</td>\n",
       "    </tr>\n",
       "    <tr>\n",
       "      <th>3</th>\n",
       "      <td>Dr. Neelima Sharma</td>\n",
       "      <td>Dermatologist</td>\n",
       "      <td>24</td>\n",
       "      <td>Manipal Hospital</td>\n",
       "      <td>Jayanagar 9 Block</td>\n",
       "      <td>Bangalore</td>\n",
       "      <td>650</td>\n",
       "      <td>95</td>\n",
       "      <td>27</td>\n",
       "      <td>Today</td>\n",
       "    </tr>\n",
       "    <tr>\n",
       "      <th>4</th>\n",
       "      <td>Dr. Parthasarathi Dutta Roy</td>\n",
       "      <td>Dermatologist</td>\n",
       "      <td>20</td>\n",
       "      <td>Dr. Partha Sarathi's Asian Hair and Skin Hospi...</td>\n",
       "      <td>MG Road</td>\n",
       "      <td>Bangalore</td>\n",
       "      <td>700</td>\n",
       "      <td>89</td>\n",
       "      <td>1314</td>\n",
       "      <td>Today</td>\n",
       "    </tr>\n",
       "    <tr>\n",
       "      <th>5</th>\n",
       "      <td>Dr. Jyothi Menon</td>\n",
       "      <td>Dermatologist</td>\n",
       "      <td>22</td>\n",
       "      <td>Oliva Skin &amp; Hair Clinic</td>\n",
       "      <td>Koramangala 7 Block</td>\n",
       "      <td>Bangalore</td>\n",
       "      <td>600</td>\n",
       "      <td>96</td>\n",
       "      <td>33</td>\n",
       "      <td>Today</td>\n",
       "    </tr>\n",
       "    <tr>\n",
       "      <th>...</th>\n",
       "      <td>...</td>\n",
       "      <td>...</td>\n",
       "      <td>...</td>\n",
       "      <td>...</td>\n",
       "      <td>...</td>\n",
       "      <td>...</td>\n",
       "      <td>...</td>\n",
       "      <td>...</td>\n",
       "      <td>...</td>\n",
       "      <td>...</td>\n",
       "    </tr>\n",
       "    <tr>\n",
       "      <th>2850</th>\n",
       "      <td>Dr. Chayan Kumar Roy</td>\n",
       "      <td>General Physician</td>\n",
       "      <td>28</td>\n",
       "      <td>Rameswara Nursing Home</td>\n",
       "      <td>Ultadanga</td>\n",
       "      <td>Kolkata</td>\n",
       "      <td>800</td>\n",
       "      <td>100</td>\n",
       "      <td>1</td>\n",
       "      <td>Today</td>\n",
       "    </tr>\n",
       "    <tr>\n",
       "      <th>2851</th>\n",
       "      <td>Dr. Dipayan Das</td>\n",
       "      <td>Homoeopath</td>\n",
       "      <td>12</td>\n",
       "      <td>The Healers</td>\n",
       "      <td>Garia</td>\n",
       "      <td>Kolkata</td>\n",
       "      <td>600</td>\n",
       "      <td>90</td>\n",
       "      <td>18</td>\n",
       "      <td>Today</td>\n",
       "    </tr>\n",
       "    <tr>\n",
       "      <th>2852</th>\n",
       "      <td>Dr. Shyama Prasad Roy</td>\n",
       "      <td>General Physician</td>\n",
       "      <td>37</td>\n",
       "      <td>Binapani Doctor's Chamber</td>\n",
       "      <td>Jadavpur</td>\n",
       "      <td>Kolkata</td>\n",
       "      <td>700</td>\n",
       "      <td>79</td>\n",
       "      <td>8</td>\n",
       "      <td>Today</td>\n",
       "    </tr>\n",
       "    <tr>\n",
       "      <th>2853</th>\n",
       "      <td>Dr. Sandip Rungta</td>\n",
       "      <td>General Physician</td>\n",
       "      <td>23</td>\n",
       "      <td>Mansa Sheel</td>\n",
       "      <td>Beadon Street</td>\n",
       "      <td>Kolkata</td>\n",
       "      <td>700</td>\n",
       "      <td>99</td>\n",
       "      <td>312</td>\n",
       "      <td>Today</td>\n",
       "    </tr>\n",
       "    <tr>\n",
       "      <th>2854</th>\n",
       "      <td>Dr. Bappaditya Sarkar</td>\n",
       "      <td>NaN</td>\n",
       "      <td>21</td>\n",
       "      <td>Ashok Polyclinic Nursing Home</td>\n",
       "      <td>Jodhpur Park</td>\n",
       "      <td>Kolkata</td>\n",
       "      <td>800</td>\n",
       "      <td>97</td>\n",
       "      <td>20</td>\n",
       "      <td>Today</td>\n",
       "    </tr>\n",
       "  </tbody>\n",
       "</table>\n",
       "<p>2498 rows × 10 columns</p>\n",
       "</div>"
      ],
      "text/plain": [
       "                            Names     Specialization Experience  \\\n",
       "1              Dr. Deepak Devakar      Dermatologist        19    \n",
       "2                Dr. Vignessh Raj      Dermatologist        16    \n",
       "3              Dr. Neelima Sharma      Dermatologist        24    \n",
       "4     Dr. Parthasarathi Dutta Roy      Dermatologist        20    \n",
       "5                Dr. Jyothi Menon      Dermatologist        22    \n",
       "...                           ...                ...        ...   \n",
       "2850         Dr. Chayan Kumar Roy  General Physician        28    \n",
       "2851              Dr. Dipayan Das         Homoeopath        12    \n",
       "2852        Dr. Shyama Prasad Roy  General Physician        37    \n",
       "2853            Dr. Sandip Rungta  General Physician        23    \n",
       "2854        Dr. Bappaditya Sarkar                NaN        21    \n",
       "\n",
       "                                          Hospital_Name                 Area  \\\n",
       "1           Dermasculpt Hair Transplant and Skin Clinic             JP Nagar   \n",
       "2                      Dr. RAJ's Centre for Skin & Hair           Whitefield   \n",
       "3                                      Manipal Hospital    Jayanagar 9 Block   \n",
       "4     Dr. Partha Sarathi's Asian Hair and Skin Hospi...              MG Road   \n",
       "5                              Oliva Skin & Hair Clinic  Koramangala 7 Block   \n",
       "...                                                 ...                  ...   \n",
       "2850                             Rameswara Nursing Home            Ultadanga   \n",
       "2851                                        The Healers                Garia   \n",
       "2852                          Binapani Doctor's Chamber             Jadavpur   \n",
       "2853                                        Mansa Sheel        Beadon Street   \n",
       "2854                      Ashok Polyclinic Nursing Home         Jodhpur Park   \n",
       "\n",
       "           City  Consultation_Fee  Doctor_recommondations Patient_Stories  \\\n",
       "1     Bangalore               600                      98            580    \n",
       "2     Bangalore               700                      98            286    \n",
       "3     Bangalore               650                      95             27    \n",
       "4     Bangalore               700                      89           1314    \n",
       "5     Bangalore               600                      96             33    \n",
       "...         ...               ...                     ...             ...   \n",
       "2850    Kolkata               800                     100              1    \n",
       "2851    Kolkata               600                      90             18    \n",
       "2852    Kolkata               700                      79              8    \n",
       "2853    Kolkata               700                      99            312    \n",
       "2854    Kolkata               800                      97             20    \n",
       "\n",
       "     Doctor_availability  \n",
       "1                  Today  \n",
       "2                  Today  \n",
       "3                  Today  \n",
       "4                  Today  \n",
       "5                  Today  \n",
       "...                  ...  \n",
       "2850               Today  \n",
       "2851               Today  \n",
       "2852               Today  \n",
       "2853               Today  \n",
       "2854               Today  \n",
       "\n",
       "[2498 rows x 10 columns]"
      ]
     },
     "execution_count": 247,
     "metadata": {},
     "output_type": "execute_result"
    }
   ],
   "source": [
    "# displaying the new dataframe\n",
    "df3 = pd.read_csv(\"practo_inprogress.csv\",index_col=0)\n",
    "df3"
   ]
  },
  {
   "cell_type": "code",
   "execution_count": 248,
   "id": "1e921409",
   "metadata": {},
   "outputs": [],
   "source": [
    "# Removing the outliers\n",
    "df4=df3.dropna(subset=[\"Names\",\"Specialization\",\"Experience\",\"Hospital_Name\",\"Area\",\"City\",\"Consultation_Fee\",\"Doctor_recommondations\",\"Patient_Stories\",\"Doctor_availability\"])"
   ]
  },
  {
   "cell_type": "code",
   "execution_count": 249,
   "id": "db86700c",
   "metadata": {},
   "outputs": [
    {
     "data": {
      "text/html": [
       "<div>\n",
       "<style scoped>\n",
       "    .dataframe tbody tr th:only-of-type {\n",
       "        vertical-align: middle;\n",
       "    }\n",
       "\n",
       "    .dataframe tbody tr th {\n",
       "        vertical-align: top;\n",
       "    }\n",
       "\n",
       "    .dataframe thead th {\n",
       "        text-align: right;\n",
       "    }\n",
       "</style>\n",
       "<table border=\"1\" class=\"dataframe\">\n",
       "  <thead>\n",
       "    <tr style=\"text-align: right;\">\n",
       "      <th></th>\n",
       "      <th>Names</th>\n",
       "      <th>Specialization</th>\n",
       "      <th>Experience</th>\n",
       "      <th>Hospital_Name</th>\n",
       "      <th>Area</th>\n",
       "      <th>City</th>\n",
       "      <th>Consultation_Fee</th>\n",
       "      <th>Doctor_recommondations</th>\n",
       "      <th>Patient_Stories</th>\n",
       "      <th>Doctor_availability</th>\n",
       "    </tr>\n",
       "  </thead>\n",
       "  <tbody>\n",
       "    <tr>\n",
       "      <th>1</th>\n",
       "      <td>Dr. Deepak Devakar</td>\n",
       "      <td>Dermatologist</td>\n",
       "      <td>19</td>\n",
       "      <td>Dermasculpt Hair Transplant and Skin Clinic</td>\n",
       "      <td>JP Nagar</td>\n",
       "      <td>Bangalore</td>\n",
       "      <td>600</td>\n",
       "      <td>98</td>\n",
       "      <td>580</td>\n",
       "      <td>Today</td>\n",
       "    </tr>\n",
       "    <tr>\n",
       "      <th>2</th>\n",
       "      <td>Dr. Vignessh Raj</td>\n",
       "      <td>Dermatologist</td>\n",
       "      <td>16</td>\n",
       "      <td>Dr. RAJ's Centre for Skin &amp; Hair</td>\n",
       "      <td>Whitefield</td>\n",
       "      <td>Bangalore</td>\n",
       "      <td>700</td>\n",
       "      <td>98</td>\n",
       "      <td>286</td>\n",
       "      <td>Today</td>\n",
       "    </tr>\n",
       "    <tr>\n",
       "      <th>3</th>\n",
       "      <td>Dr. Neelima Sharma</td>\n",
       "      <td>Dermatologist</td>\n",
       "      <td>24</td>\n",
       "      <td>Manipal Hospital</td>\n",
       "      <td>Jayanagar 9 Block</td>\n",
       "      <td>Bangalore</td>\n",
       "      <td>650</td>\n",
       "      <td>95</td>\n",
       "      <td>27</td>\n",
       "      <td>Today</td>\n",
       "    </tr>\n",
       "    <tr>\n",
       "      <th>4</th>\n",
       "      <td>Dr. Parthasarathi Dutta Roy</td>\n",
       "      <td>Dermatologist</td>\n",
       "      <td>20</td>\n",
       "      <td>Dr. Partha Sarathi's Asian Hair and Skin Hospi...</td>\n",
       "      <td>MG Road</td>\n",
       "      <td>Bangalore</td>\n",
       "      <td>700</td>\n",
       "      <td>89</td>\n",
       "      <td>1314</td>\n",
       "      <td>Today</td>\n",
       "    </tr>\n",
       "    <tr>\n",
       "      <th>5</th>\n",
       "      <td>Dr. Jyothi Menon</td>\n",
       "      <td>Dermatologist</td>\n",
       "      <td>22</td>\n",
       "      <td>Oliva Skin &amp; Hair Clinic</td>\n",
       "      <td>Koramangala 7 Block</td>\n",
       "      <td>Bangalore</td>\n",
       "      <td>600</td>\n",
       "      <td>96</td>\n",
       "      <td>33</td>\n",
       "      <td>Today</td>\n",
       "    </tr>\n",
       "    <tr>\n",
       "      <th>...</th>\n",
       "      <td>...</td>\n",
       "      <td>...</td>\n",
       "      <td>...</td>\n",
       "      <td>...</td>\n",
       "      <td>...</td>\n",
       "      <td>...</td>\n",
       "      <td>...</td>\n",
       "      <td>...</td>\n",
       "      <td>...</td>\n",
       "      <td>...</td>\n",
       "    </tr>\n",
       "    <tr>\n",
       "      <th>2849</th>\n",
       "      <td>Dr. Shahid Shaikh</td>\n",
       "      <td>Homoeopath</td>\n",
       "      <td>18</td>\n",
       "      <td>Dr Batra's Positive Health Clinic Pvt Ltd</td>\n",
       "      <td>Salt Lake</td>\n",
       "      <td>Kolkata</td>\n",
       "      <td>450</td>\n",
       "      <td>100</td>\n",
       "      <td>1</td>\n",
       "      <td>Today</td>\n",
       "    </tr>\n",
       "    <tr>\n",
       "      <th>2850</th>\n",
       "      <td>Dr. Chayan Kumar Roy</td>\n",
       "      <td>General Physician</td>\n",
       "      <td>28</td>\n",
       "      <td>Rameswara Nursing Home</td>\n",
       "      <td>Ultadanga</td>\n",
       "      <td>Kolkata</td>\n",
       "      <td>800</td>\n",
       "      <td>100</td>\n",
       "      <td>1</td>\n",
       "      <td>Today</td>\n",
       "    </tr>\n",
       "    <tr>\n",
       "      <th>2851</th>\n",
       "      <td>Dr. Dipayan Das</td>\n",
       "      <td>Homoeopath</td>\n",
       "      <td>12</td>\n",
       "      <td>The Healers</td>\n",
       "      <td>Garia</td>\n",
       "      <td>Kolkata</td>\n",
       "      <td>600</td>\n",
       "      <td>90</td>\n",
       "      <td>18</td>\n",
       "      <td>Today</td>\n",
       "    </tr>\n",
       "    <tr>\n",
       "      <th>2852</th>\n",
       "      <td>Dr. Shyama Prasad Roy</td>\n",
       "      <td>General Physician</td>\n",
       "      <td>37</td>\n",
       "      <td>Binapani Doctor's Chamber</td>\n",
       "      <td>Jadavpur</td>\n",
       "      <td>Kolkata</td>\n",
       "      <td>700</td>\n",
       "      <td>79</td>\n",
       "      <td>8</td>\n",
       "      <td>Today</td>\n",
       "    </tr>\n",
       "    <tr>\n",
       "      <th>2853</th>\n",
       "      <td>Dr. Sandip Rungta</td>\n",
       "      <td>General Physician</td>\n",
       "      <td>23</td>\n",
       "      <td>Mansa Sheel</td>\n",
       "      <td>Beadon Street</td>\n",
       "      <td>Kolkata</td>\n",
       "      <td>700</td>\n",
       "      <td>99</td>\n",
       "      <td>312</td>\n",
       "      <td>Today</td>\n",
       "    </tr>\n",
       "  </tbody>\n",
       "</table>\n",
       "<p>1045 rows × 10 columns</p>\n",
       "</div>"
      ],
      "text/plain": [
       "                            Names     Specialization Experience  \\\n",
       "1              Dr. Deepak Devakar      Dermatologist        19    \n",
       "2                Dr. Vignessh Raj      Dermatologist        16    \n",
       "3              Dr. Neelima Sharma      Dermatologist        24    \n",
       "4     Dr. Parthasarathi Dutta Roy      Dermatologist        20    \n",
       "5                Dr. Jyothi Menon      Dermatologist        22    \n",
       "...                           ...                ...        ...   \n",
       "2849            Dr. Shahid Shaikh         Homoeopath        18    \n",
       "2850         Dr. Chayan Kumar Roy  General Physician        28    \n",
       "2851              Dr. Dipayan Das         Homoeopath        12    \n",
       "2852        Dr. Shyama Prasad Roy  General Physician        37    \n",
       "2853            Dr. Sandip Rungta  General Physician        23    \n",
       "\n",
       "                                          Hospital_Name                 Area  \\\n",
       "1           Dermasculpt Hair Transplant and Skin Clinic             JP Nagar   \n",
       "2                      Dr. RAJ's Centre for Skin & Hair           Whitefield   \n",
       "3                                      Manipal Hospital    Jayanagar 9 Block   \n",
       "4     Dr. Partha Sarathi's Asian Hair and Skin Hospi...              MG Road   \n",
       "5                              Oliva Skin & Hair Clinic  Koramangala 7 Block   \n",
       "...                                                 ...                  ...   \n",
       "2849          Dr Batra's Positive Health Clinic Pvt Ltd            Salt Lake   \n",
       "2850                             Rameswara Nursing Home            Ultadanga   \n",
       "2851                                        The Healers                Garia   \n",
       "2852                          Binapani Doctor's Chamber             Jadavpur   \n",
       "2853                                        Mansa Sheel        Beadon Street   \n",
       "\n",
       "           City  Consultation_Fee  Doctor_recommondations Patient_Stories  \\\n",
       "1     Bangalore               600                      98            580    \n",
       "2     Bangalore               700                      98            286    \n",
       "3     Bangalore               650                      95             27    \n",
       "4     Bangalore               700                      89           1314    \n",
       "5     Bangalore               600                      96             33    \n",
       "...         ...               ...                     ...             ...   \n",
       "2849    Kolkata               450                     100              1    \n",
       "2850    Kolkata               800                     100              1    \n",
       "2851    Kolkata               600                      90             18    \n",
       "2852    Kolkata               700                      79              8    \n",
       "2853    Kolkata               700                      99            312    \n",
       "\n",
       "     Doctor_availability  \n",
       "1                  Today  \n",
       "2                  Today  \n",
       "3                  Today  \n",
       "4                  Today  \n",
       "5                  Today  \n",
       "...                  ...  \n",
       "2849               Today  \n",
       "2850               Today  \n",
       "2851               Today  \n",
       "2852               Today  \n",
       "2853               Today  \n",
       "\n",
       "[1045 rows x 10 columns]"
      ]
     },
     "execution_count": 249,
     "metadata": {},
     "output_type": "execute_result"
    }
   ],
   "source": [
    "df4"
   ]
  },
  {
   "cell_type": "code",
   "execution_count": 250,
   "id": "956d36b3",
   "metadata": {},
   "outputs": [
    {
     "data": {
      "text/plain": [
       "Names                     0\n",
       "Specialization            0\n",
       "Experience                0\n",
       "Hospital_Name             0\n",
       "Area                      0\n",
       "City                      0\n",
       "Consultation_Fee          0\n",
       "Doctor_recommondations    0\n",
       "Patient_Stories           0\n",
       "Doctor_availability       0\n",
       "dtype: int64"
      ]
     },
     "execution_count": 250,
     "metadata": {},
     "output_type": "execute_result"
    }
   ],
   "source": [
    "df4.isnull().sum()"
   ]
  },
  {
   "cell_type": "markdown",
   "id": "5e705f2f",
   "metadata": {},
   "source": [
    "## Type Conversion"
   ]
  },
  {
   "cell_type": "code",
   "execution_count": 254,
   "id": "2d8dfe50",
   "metadata": {},
   "outputs": [],
   "source": [
    "import warnings\n",
    "warnings.filterwarnings(\"ignore\")"
   ]
  },
  {
   "cell_type": "code",
   "execution_count": 252,
   "id": "322eb307",
   "metadata": {},
   "outputs": [
    {
     "data": {
      "text/html": [
       "<div>\n",
       "<style scoped>\n",
       "    .dataframe tbody tr th:only-of-type {\n",
       "        vertical-align: middle;\n",
       "    }\n",
       "\n",
       "    .dataframe tbody tr th {\n",
       "        vertical-align: top;\n",
       "    }\n",
       "\n",
       "    .dataframe thead th {\n",
       "        text-align: right;\n",
       "    }\n",
       "</style>\n",
       "<table border=\"1\" class=\"dataframe\">\n",
       "  <thead>\n",
       "    <tr style=\"text-align: right;\">\n",
       "      <th></th>\n",
       "      <th>Names</th>\n",
       "      <th>Specialization</th>\n",
       "      <th>Experience</th>\n",
       "      <th>Hospital_Name</th>\n",
       "      <th>Area</th>\n",
       "      <th>City</th>\n",
       "      <th>Consultation_Fee</th>\n",
       "      <th>Doctor_recommondations</th>\n",
       "      <th>Patient_Stories</th>\n",
       "      <th>Doctor_availability</th>\n",
       "    </tr>\n",
       "  </thead>\n",
       "  <tbody>\n",
       "    <tr>\n",
       "      <th>1</th>\n",
       "      <td>Dr. Deepak Devakar</td>\n",
       "      <td>Dermatologist</td>\n",
       "      <td>19</td>\n",
       "      <td>Dermasculpt Hair Transplant and Skin Clinic</td>\n",
       "      <td>JP Nagar</td>\n",
       "      <td>Bangalore</td>\n",
       "      <td>600</td>\n",
       "      <td>98</td>\n",
       "      <td>580</td>\n",
       "      <td>Today</td>\n",
       "    </tr>\n",
       "    <tr>\n",
       "      <th>2</th>\n",
       "      <td>Dr. Vignessh Raj</td>\n",
       "      <td>Dermatologist</td>\n",
       "      <td>16</td>\n",
       "      <td>Dr. RAJ's Centre for Skin &amp; Hair</td>\n",
       "      <td>Whitefield</td>\n",
       "      <td>Bangalore</td>\n",
       "      <td>700</td>\n",
       "      <td>98</td>\n",
       "      <td>286</td>\n",
       "      <td>Today</td>\n",
       "    </tr>\n",
       "    <tr>\n",
       "      <th>3</th>\n",
       "      <td>Dr. Neelima Sharma</td>\n",
       "      <td>Dermatologist</td>\n",
       "      <td>24</td>\n",
       "      <td>Manipal Hospital</td>\n",
       "      <td>Jayanagar 9 Block</td>\n",
       "      <td>Bangalore</td>\n",
       "      <td>650</td>\n",
       "      <td>95</td>\n",
       "      <td>27</td>\n",
       "      <td>Today</td>\n",
       "    </tr>\n",
       "    <tr>\n",
       "      <th>4</th>\n",
       "      <td>Dr. Parthasarathi Dutta Roy</td>\n",
       "      <td>Dermatologist</td>\n",
       "      <td>20</td>\n",
       "      <td>Dr. Partha Sarathi's Asian Hair and Skin Hospi...</td>\n",
       "      <td>MG Road</td>\n",
       "      <td>Bangalore</td>\n",
       "      <td>700</td>\n",
       "      <td>89</td>\n",
       "      <td>1314</td>\n",
       "      <td>Today</td>\n",
       "    </tr>\n",
       "    <tr>\n",
       "      <th>5</th>\n",
       "      <td>Dr. Jyothi Menon</td>\n",
       "      <td>Dermatologist</td>\n",
       "      <td>22</td>\n",
       "      <td>Oliva Skin &amp; Hair Clinic</td>\n",
       "      <td>Koramangala 7 Block</td>\n",
       "      <td>Bangalore</td>\n",
       "      <td>600</td>\n",
       "      <td>96</td>\n",
       "      <td>33</td>\n",
       "      <td>Today</td>\n",
       "    </tr>\n",
       "  </tbody>\n",
       "</table>\n",
       "</div>"
      ],
      "text/plain": [
       "                         Names Specialization Experience  \\\n",
       "1           Dr. Deepak Devakar  Dermatologist        19    \n",
       "2             Dr. Vignessh Raj  Dermatologist        16    \n",
       "3           Dr. Neelima Sharma  Dermatologist        24    \n",
       "4  Dr. Parthasarathi Dutta Roy  Dermatologist        20    \n",
       "5             Dr. Jyothi Menon  Dermatologist        22    \n",
       "\n",
       "                                       Hospital_Name                 Area  \\\n",
       "1        Dermasculpt Hair Transplant and Skin Clinic             JP Nagar   \n",
       "2                   Dr. RAJ's Centre for Skin & Hair           Whitefield   \n",
       "3                                   Manipal Hospital    Jayanagar 9 Block   \n",
       "4  Dr. Partha Sarathi's Asian Hair and Skin Hospi...              MG Road   \n",
       "5                           Oliva Skin & Hair Clinic  Koramangala 7 Block   \n",
       "\n",
       "        City  Consultation_Fee  Doctor_recommondations Patient_Stories  \\\n",
       "1  Bangalore               600                      98            580    \n",
       "2  Bangalore               700                      98            286    \n",
       "3  Bangalore               650                      95             27    \n",
       "4  Bangalore               700                      89           1314    \n",
       "5  Bangalore               600                      96             33    \n",
       "\n",
       "  Doctor_availability  \n",
       "1               Today  \n",
       "2               Today  \n",
       "3               Today  \n",
       "4               Today  \n",
       "5               Today  "
      ]
     },
     "execution_count": 252,
     "metadata": {},
     "output_type": "execute_result"
    }
   ],
   "source": [
    "df4.head()"
   ]
  },
  {
   "cell_type": "code",
   "execution_count": 251,
   "id": "c109f96a",
   "metadata": {},
   "outputs": [
    {
     "name": "stdout",
     "output_type": "stream",
     "text": [
      "<class 'pandas.core.frame.DataFrame'>\n",
      "Int64Index: 1045 entries, 1 to 2853\n",
      "Data columns (total 10 columns):\n",
      " #   Column                  Non-Null Count  Dtype \n",
      "---  ------                  --------------  ----- \n",
      " 0   Names                   1045 non-null   object\n",
      " 1   Specialization          1045 non-null   object\n",
      " 2   Experience              1045 non-null   object\n",
      " 3   Hospital_Name           1045 non-null   object\n",
      " 4   Area                    1045 non-null   object\n",
      " 5   City                    1045 non-null   object\n",
      " 6   Consultation_Fee        1045 non-null   int64 \n",
      " 7   Doctor_recommondations  1045 non-null   int64 \n",
      " 8   Patient_Stories         1045 non-null   object\n",
      " 9   Doctor_availability     1045 non-null   object\n",
      "dtypes: int64(2), object(8)\n",
      "memory usage: 89.8+ KB\n"
     ]
    }
   ],
   "source": [
    "df4.info()"
   ]
  },
  {
   "cell_type": "code",
   "execution_count": 255,
   "id": "9caf60f0",
   "metadata": {},
   "outputs": [],
   "source": [
    "df4['Patient_Stories']=df4[\"Patient_Stories\"].astype('int')"
   ]
  },
  {
   "cell_type": "code",
   "execution_count": 256,
   "id": "6a8792cf",
   "metadata": {},
   "outputs": [],
   "source": [
    "df4[\"Experience\"] = df4[\"Experience\"].astype(\"int\")"
   ]
  },
  {
   "cell_type": "code",
   "execution_count": 257,
   "id": "68a84e43",
   "metadata": {},
   "outputs": [
    {
     "name": "stdout",
     "output_type": "stream",
     "text": [
      "<class 'pandas.core.frame.DataFrame'>\n",
      "Int64Index: 1045 entries, 1 to 2853\n",
      "Data columns (total 10 columns):\n",
      " #   Column                  Non-Null Count  Dtype \n",
      "---  ------                  --------------  ----- \n",
      " 0   Names                   1045 non-null   object\n",
      " 1   Specialization          1045 non-null   object\n",
      " 2   Experience              1045 non-null   int32 \n",
      " 3   Hospital_Name           1045 non-null   object\n",
      " 4   Area                    1045 non-null   object\n",
      " 5   City                    1045 non-null   object\n",
      " 6   Consultation_Fee        1045 non-null   int64 \n",
      " 7   Doctor_recommondations  1045 non-null   int64 \n",
      " 8   Patient_Stories         1045 non-null   int32 \n",
      " 9   Doctor_availability     1045 non-null   object\n",
      "dtypes: int32(2), int64(2), object(6)\n",
      "memory usage: 81.6+ KB\n"
     ]
    }
   ],
   "source": [
    "df4.info()"
   ]
  },
  {
   "cell_type": "code",
   "execution_count": 258,
   "id": "705b4673",
   "metadata": {},
   "outputs": [],
   "source": [
    "# Saving the Cleand Data Frame into CSV File\n",
    "#df4.to_csv('practo_cleaned.csv')"
   ]
  },
  {
   "cell_type": "markdown",
   "id": "452fbd13",
   "metadata": {},
   "source": [
    "# Data analysis\n",
    "1. statistical analysis\n",
    "2. visualization\n",
    "\n"
   ]
  },
  {
   "cell_type": "code",
   "execution_count": 2,
   "id": "1e568e57",
   "metadata": {},
   "outputs": [],
   "source": [
    "import numpy as np\n",
    "import pandas as pd"
   ]
  },
  {
   "cell_type": "markdown",
   "id": "e549e144",
   "metadata": {},
   "source": [
    "## Data Visualization"
   ]
  },
  {
   "cell_type": "markdown",
   "id": "399f9371",
   "metadata": {},
   "source": [
    "1. univariate - cat, num\n",
    "2. bi variate - cat vs num, num vs num, cat vs cat\n",
    "3. multi variate - heat map"
   ]
  },
  {
   "cell_type": "code",
   "execution_count": 4,
   "id": "e32c0bad",
   "metadata": {},
   "outputs": [
    {
     "data": {
      "text/html": [
       "<div>\n",
       "<style scoped>\n",
       "    .dataframe tbody tr th:only-of-type {\n",
       "        vertical-align: middle;\n",
       "    }\n",
       "\n",
       "    .dataframe tbody tr th {\n",
       "        vertical-align: top;\n",
       "    }\n",
       "\n",
       "    .dataframe thead th {\n",
       "        text-align: right;\n",
       "    }\n",
       "</style>\n",
       "<table border=\"1\" class=\"dataframe\">\n",
       "  <thead>\n",
       "    <tr style=\"text-align: right;\">\n",
       "      <th></th>\n",
       "      <th>Names</th>\n",
       "      <th>Specialization</th>\n",
       "      <th>Experience</th>\n",
       "      <th>Hospital_Name</th>\n",
       "      <th>Area</th>\n",
       "      <th>City</th>\n",
       "      <th>Consultation_Fee</th>\n",
       "      <th>Doctor_recommondations</th>\n",
       "      <th>Patient_Stories</th>\n",
       "      <th>Doctor_availability</th>\n",
       "    </tr>\n",
       "  </thead>\n",
       "  <tbody>\n",
       "    <tr>\n",
       "      <th>1</th>\n",
       "      <td>Dr. Deepak Devakar</td>\n",
       "      <td>Dermatologist</td>\n",
       "      <td>19</td>\n",
       "      <td>Dermasculpt Hair Transplant and Skin Clinic</td>\n",
       "      <td>JP Nagar</td>\n",
       "      <td>Bangalore</td>\n",
       "      <td>600</td>\n",
       "      <td>98</td>\n",
       "      <td>580</td>\n",
       "      <td>Today</td>\n",
       "    </tr>\n",
       "    <tr>\n",
       "      <th>2</th>\n",
       "      <td>Dr. Vignessh Raj</td>\n",
       "      <td>Dermatologist</td>\n",
       "      <td>16</td>\n",
       "      <td>Dr. RAJ's Centre for Skin &amp; Hair</td>\n",
       "      <td>Whitefield</td>\n",
       "      <td>Bangalore</td>\n",
       "      <td>700</td>\n",
       "      <td>98</td>\n",
       "      <td>286</td>\n",
       "      <td>Today</td>\n",
       "    </tr>\n",
       "    <tr>\n",
       "      <th>3</th>\n",
       "      <td>Dr. Neelima Sharma</td>\n",
       "      <td>Dermatologist</td>\n",
       "      <td>24</td>\n",
       "      <td>Manipal Hospital</td>\n",
       "      <td>Jayanagar 9 Block</td>\n",
       "      <td>Bangalore</td>\n",
       "      <td>650</td>\n",
       "      <td>95</td>\n",
       "      <td>27</td>\n",
       "      <td>Today</td>\n",
       "    </tr>\n",
       "    <tr>\n",
       "      <th>4</th>\n",
       "      <td>Dr. Parthasarathi Dutta Roy</td>\n",
       "      <td>Dermatologist</td>\n",
       "      <td>20</td>\n",
       "      <td>Dr. Partha Sarathi's Asian Hair and Skin Hospi...</td>\n",
       "      <td>MG Road</td>\n",
       "      <td>Bangalore</td>\n",
       "      <td>700</td>\n",
       "      <td>89</td>\n",
       "      <td>1314</td>\n",
       "      <td>Today</td>\n",
       "    </tr>\n",
       "    <tr>\n",
       "      <th>5</th>\n",
       "      <td>Dr. Jyothi Menon</td>\n",
       "      <td>Dermatologist</td>\n",
       "      <td>22</td>\n",
       "      <td>Oliva Skin &amp; Hair Clinic</td>\n",
       "      <td>Koramangala 7 Block</td>\n",
       "      <td>Bangalore</td>\n",
       "      <td>600</td>\n",
       "      <td>96</td>\n",
       "      <td>33</td>\n",
       "      <td>Today</td>\n",
       "    </tr>\n",
       "  </tbody>\n",
       "</table>\n",
       "</div>"
      ],
      "text/plain": [
       "                         Names Specialization  Experience  \\\n",
       "1           Dr. Deepak Devakar  Dermatologist          19   \n",
       "2             Dr. Vignessh Raj  Dermatologist          16   \n",
       "3           Dr. Neelima Sharma  Dermatologist          24   \n",
       "4  Dr. Parthasarathi Dutta Roy  Dermatologist          20   \n",
       "5             Dr. Jyothi Menon  Dermatologist          22   \n",
       "\n",
       "                                       Hospital_Name                 Area  \\\n",
       "1        Dermasculpt Hair Transplant and Skin Clinic             JP Nagar   \n",
       "2                   Dr. RAJ's Centre for Skin & Hair           Whitefield   \n",
       "3                                   Manipal Hospital    Jayanagar 9 Block   \n",
       "4  Dr. Partha Sarathi's Asian Hair and Skin Hospi...              MG Road   \n",
       "5                           Oliva Skin & Hair Clinic  Koramangala 7 Block   \n",
       "\n",
       "        City  Consultation_Fee  Doctor_recommondations  Patient_Stories  \\\n",
       "1  Bangalore               600                      98              580   \n",
       "2  Bangalore               700                      98              286   \n",
       "3  Bangalore               650                      95               27   \n",
       "4  Bangalore               700                      89             1314   \n",
       "5  Bangalore               600                      96               33   \n",
       "\n",
       "  Doctor_availability  \n",
       "1               Today  \n",
       "2               Today  \n",
       "3               Today  \n",
       "4               Today  \n",
       "5               Today  "
      ]
     },
     "execution_count": 4,
     "metadata": {},
     "output_type": "execute_result"
    }
   ],
   "source": [
    "# Reading the Cleaned Data Frame\n",
    "p = pd.read_csv('practo_cleaned.csv',index_col=0)\n",
    "p.head()"
   ]
  },
  {
   "cell_type": "markdown",
   "id": "64f72a3e",
   "metadata": {},
   "source": [
    "## Univariate "
   ]
  },
  {
   "cell_type": "code",
   "execution_count": 4,
   "id": "e881f5c8",
   "metadata": {
    "scrolled": true
   },
   "outputs": [
    {
     "data": {
      "text/plain": [
       "Dermatologist                271\n",
       "Dentist                      259\n",
       "Gynecologist/Obstetrician    210\n",
       "General Physician            132\n",
       "Ayurveda                      92\n",
       "Homoeopath                    59\n",
       "Ear-Nose-Throat (ENT)         22\n",
       "Name: Specialization, dtype: int64"
      ]
     },
     "execution_count": 4,
     "metadata": {},
     "output_type": "execute_result"
    }
   ],
   "source": [
    "p[\"Specialization\"].value_counts()"
   ]
  },
  {
   "cell_type": "code",
   "execution_count": 5,
   "id": "8870fd31",
   "metadata": {},
   "outputs": [
    {
     "data": {
      "text/plain": [
       "4300"
      ]
     },
     "execution_count": 5,
     "metadata": {},
     "output_type": "execute_result"
    }
   ],
   "source": [
    "p[\"Consultation_Fee\"].max()"
   ]
  },
  {
   "cell_type": "code",
   "execution_count": 6,
   "id": "137668f2",
   "metadata": {},
   "outputs": [
    {
     "data": {
      "text/plain": [
       "0"
      ]
     },
     "execution_count": 6,
     "metadata": {},
     "output_type": "execute_result"
    }
   ],
   "source": [
    "p[\"Consultation_Fee\"].min()"
   ]
  },
  {
   "cell_type": "code",
   "execution_count": 7,
   "id": "bc165778",
   "metadata": {},
   "outputs": [
    {
     "data": {
      "text/plain": [
       "160.0641148325359"
      ]
     },
     "execution_count": 7,
     "metadata": {},
     "output_type": "execute_result"
    }
   ],
   "source": [
    "p[\"Patient_Stories\"].mean()"
   ]
  },
  {
   "cell_type": "code",
   "execution_count": 268,
   "id": "0327f91d",
   "metadata": {},
   "outputs": [
    {
     "data": {
      "image/png": "[encoded data removed]",
      "text/plain": [
       "<Figure size 432x288 with 1 Axes>"
      ]
     },
     "metadata": {
      "needs_background": "light"
     },
     "output_type": "display_data"
    }
   ],
   "source": [
    "# Using Bar graph for Doctor_specialization\n",
    "p[\"Specialization\"].value_counts().plot.bar()\n",
    "plt.xlabel('Specialization')\n",
    "plt.ylabel('count')\n",
    "plt.title('Specialization')\n",
    "plt.show()\n"
   ]
  },
  {
   "cell_type": "code",
   "execution_count": 31,
   "id": "29683ed0",
   "metadata": {},
   "outputs": [
    {
     "data": {
      "image/png": "[encoded data removed]",
      "text/plain": [
       "<Figure size 720x360 with 1 Axes>"
      ]
     },
     "metadata": {
      "needs_background": "light"
     },
     "output_type": "display_data"
    }
   ],
   "source": [
    "# Displaying the no of doctors in each city\n",
    "plt.figure(figsize=(10,5))\n",
    "sns.countplot(x = \"City\",data = p)\n",
    "plt.title(\"No of Doctors from each city\")\n",
    "plt.xlabel(\"No on Specializations\")\n",
    "plt.ylabel(\"City\")\n",
    "plt.xticks(rotation = 90)\n",
    "plt.show()"
   ]
  },
  {
   "cell_type": "code",
   "execution_count": 33,
   "id": "14fa171a",
   "metadata": {},
   "outputs": [
    {
     "data": {
      "image/png": "[encoded data removed]",
      "text/plain": [
       "<Figure size 432x288 with 1 Axes>"
      ]
     },
     "metadata": {
      "needs_background": "light"
     },
     "output_type": "display_data"
    }
   ],
   "source": [
    "fig,ax = plt.subplots()\n",
    "ax.vlines(x = p[\"Specialization\"],ymin = 0,ymax = p[\"Doctor_recommondations\"],color = \"Green\",linewidth = 2)\n",
    "ax.scatter(x = p[\"Specialization\"],y = p[\"Doctor_recommondations\"],s = 75,color = \"navy\")\n",
    "ax.set_xlabel(\"Specialization\")\n",
    "ax.set_ylabel(\"Doctor_recommonadations\")\n",
    "ax.set_title(\"Lollipop Plot\")\n",
    "plt.xticks(rotation = 90)\n",
    "plt.show()"
   ]
  },
  {
   "cell_type": "code",
   "execution_count": 271,
   "id": "5e9388a6",
   "metadata": {
    "scrolled": true
   },
   "outputs": [
    {
     "data": {
      "image/png": "[encoded data removed]",
      "text/plain": [
       "<Figure size 360x360 with 1 Axes>"
      ]
     },
     "metadata": {},
     "output_type": "display_data"
    }
   ],
   "source": [
    "# Pie Chart for City\n",
    "plt.figure(figsize=(5,5))\n",
    "p['City'].value_counts().plot.pie(autopct=\"%.2f%%\")\n",
    "plt.title('City')\n",
    "plt.show()"
   ]
  },
  {
   "cell_type": "code",
   "execution_count": 273,
   "id": "d9feb292",
   "metadata": {},
   "outputs": [
    {
     "data": {
      "image/png": "[encoded data removed]",
      "text/plain": [
       "<Figure size 432x288 with 1 Axes>"
      ]
     },
     "metadata": {
      "needs_background": "light"
     },
     "output_type": "display_data"
    }
   ],
   "source": [
    "#  Density plot for Doctor_recommondations\n",
    "sns.kdeplot(p['Doctor_recommondations'])\n",
    "plt.title('Doctor_recommondations')\n",
    "plt.show()"
   ]
  },
  {
   "cell_type": "code",
   "execution_count": 29,
   "id": "2a325391",
   "metadata": {},
   "outputs": [
    {
     "data": {
      "text/plain": [
       "<seaborn.axisgrid.FacetGrid at 0x1dbb2b3f0a0>"
      ]
     },
     "execution_count": 29,
     "metadata": {},
     "output_type": "execute_result"
    },
    {
     "data": {
      "image/png": "[encoded data removed]",
      "text/plain": [
       "<Figure size 450.875x360 with 1 Axes>"
      ]
     },
     "metadata": {
      "needs_background": "light"
     },
     "output_type": "display_data"
    }
   ],
   "source": [
    "# Doctors sucess_rate in each city\n",
    "sns.displot(p, x=\"Doctor_recommondations\", hue=\"City\", kind=\"kde\", fill=True)"
   ]
  },
  {
   "cell_type": "code",
   "execution_count": 274,
   "id": "b1796c60",
   "metadata": {},
   "outputs": [
    {
     "data": {
      "image/png": "[encoded data removed]",
      "text/plain": [
       "<Figure size 432x288 with 1 Axes>"
      ]
     },
     "metadata": {
      "needs_background": "light"
     },
     "output_type": "display_data"
    }
   ],
   "source": [
    "# Consultation_Fee\n",
    "sns.countplot(p['Consultation_Fee'])\n",
    "plt.xticks(rotation=90)\n",
    "plt.show();\n"
   ]
  },
  {
   "cell_type": "code",
   "execution_count": 21,
   "id": "354d7ab7",
   "metadata": {},
   "outputs": [
    {
     "data": {
      "text/plain": [
       "Text(0.5, 1.0, 'Experience')"
      ]
     },
     "execution_count": 21,
     "metadata": {},
     "output_type": "execute_result"
    },
    {
     "data": {
      "image/png": "[encoded data removed]",
      "text/plain": [
       "<Figure size 432x288 with 1 Axes>"
      ]
     },
     "metadata": {
      "needs_background": "light"
     },
     "output_type": "display_data"
    }
   ],
   "source": [
    "# Doctor_experience\n",
    "sns.histplot(p[\"Experience\"])\n",
    "plt.title('Experience')"
   ]
  },
  {
   "cell_type": "code",
   "execution_count": 277,
   "id": "969724d1",
   "metadata": {},
   "outputs": [
    {
     "data": {
      "image/png": "[encoded data removed]",
      "text/plain": [
       "<Figure size 432x288 with 1 Axes>"
      ]
     },
     "metadata": {
      "needs_background": "light"
     },
     "output_type": "display_data"
    }
   ],
   "source": [
    "# Using Bar graph for Doctor_availability\n",
    "p[\"Doctor_availability\"].value_counts().plot.bar()\n",
    "plt.xlabel('Doctor_availability')\n",
    "plt.ylabel('count')\n",
    "plt.title('Doctor_availability')\n",
    "plt.show()\n"
   ]
  },
  {
   "cell_type": "markdown",
   "id": "88ba350e",
   "metadata": {},
   "source": [
    "## Bivariate"
   ]
  },
  {
   "cell_type": "code",
   "execution_count": 6,
   "id": "1515c318",
   "metadata": {},
   "outputs": [
    {
     "data": {
      "image/png": "[encoded data removed]",
      "text/plain": [
       "<Figure size 432x288 with 1 Axes>"
      ]
     },
     "metadata": {
      "needs_background": "light"
     },
     "output_type": "display_data"
    }
   ],
   "source": [
    "# Experience of doctors in each city\n",
    "sns.barplot(x='Specialization',y='Experience',data=p)\n",
    "plt.xticks(rotation=90)\n",
    "plt.show()"
   ]
  },
  {
   "cell_type": "code",
   "execution_count": 5,
   "id": "d9d7da36",
   "metadata": {},
   "outputs": [
    {
     "data": {
      "image/png": "[encoded data removed]",
      "text/plain": [
       "<Figure size 432x288 with 1 Axes>"
      ]
     },
     "metadata": {
      "needs_background": "light"
     },
     "output_type": "display_data"
    }
   ],
   "source": [
    "# Over all Consultation fee in each city\n",
    "sns.barplot(y='City',x='Consultation_Fee',data=p,orient='h')\n",
    "plt.xticks(rotation=90)\n",
    "plt.show()"
   ]
  },
  {
   "cell_type": "code",
   "execution_count": 278,
   "id": "dbb561cc",
   "metadata": {},
   "outputs": [
    {
     "data": {
      "text/plain": [
       "Text(0.5, 1.0, 'City vs Specialization')"
      ]
     },
     "execution_count": 278,
     "metadata": {},
     "output_type": "execute_result"
    },
    {
     "data": {
      "image/png": "[encoded data removed]",
      "text/plain": [
       "<Figure size 1080x360 with 1 Axes>"
      ]
     },
     "metadata": {
      "needs_background": "light"
     },
     "output_type": "display_data"
    }
   ],
   "source": [
    "# No of specialists in each city\n",
    "fig,ax=plt.subplots(figsize=(15,5))\n",
    "pd.crosstab(p[\"City\"],p[\"Specialization\"]).plot(kind=\"bar\",ax=ax,width=0.8)\n",
    "plt.title('City vs Specialization')"
   ]
  },
  {
   "cell_type": "code",
   "execution_count": 279,
   "id": "94000a5a",
   "metadata": {},
   "outputs": [
    {
     "data": {
      "image/png": "[encoded data removed]",
      "text/plain": [
       "<Figure size 432x288 with 1 Axes>"
      ]
     },
     "metadata": {
      "needs_background": "light"
     },
     "output_type": "display_data"
    }
   ],
   "source": [
    "# Consultation fee based on their experience\n",
    "sns.scatterplot(x='Consultation_Fee',y='Experience',data=p)\n",
    "plt.show()"
   ]
  },
  {
   "cell_type": "code",
   "execution_count": 15,
   "id": "7ef08f24",
   "metadata": {},
   "outputs": [
    {
     "data": {
      "text/plain": [
       "Text(0.5, 1.0, 'City vs Specialization')"
      ]
     },
     "execution_count": 15,
     "metadata": {},
     "output_type": "execute_result"
    },
    {
     "data": {
      "image/png": "[encoded data removed]",
      "text/plain": [
       "<Figure size 1080x360 with 1 Axes>"
      ]
     },
     "metadata": {
      "needs_background": "light"
     },
     "output_type": "display_data"
    }
   ],
   "source": [
    "# Doctor availabilty in each city\n",
    "fig,ax=plt.subplots(figsize=(15,5))\n",
    "pd.crosstab(p[\"City\"],p[\"Doctor_availability\"]).plot(kind=\"bar\",ax=ax,width=0.5)\n",
    "plt.title('City vs Specialization')"
   ]
  },
  {
   "cell_type": "code",
   "execution_count": 35,
   "id": "8d890e50",
   "metadata": {},
   "outputs": [
    {
     "data": {
      "image/png": "[encoded data removed]",
      "text/plain": [
       "<Figure size 432x288 with 1 Axes>"
      ]
     },
     "metadata": {
      "needs_background": "light"
     },
     "output_type": "display_data"
    }
   ],
   "source": [
    "# specialists recommandation based on their success rate\n",
    "sns.boxplot(x='Specialization',y=\"Doctor_recommondations\",data = p)\n",
    "plt.title(\"Doctor_recommondations by Specialization\")\n",
    "plt.ylabel(\"Doctor_recommondations\")\n",
    "plt.xlabel(\"Specialization\")\n",
    "plt.xticks(rotation=90)\n",
    "plt.show()"
   ]
  },
  {
   "cell_type": "code",
   "execution_count": 14,
   "id": "caaf9054",
   "metadata": {},
   "outputs": [
    {
     "data": {
      "image/png": "[encoded data removed]",
      "text/plain": [
       "<Figure size 432x288 with 1 Axes>"
      ]
     },
     "metadata": {
      "needs_background": "light"
     },
     "output_type": "display_data"
    }
   ],
   "source": [
    "# Consultation fee in each city\n",
    "sns.boxplot(x='City',y=\"Consultation_Fee\",data=p)\n",
    "plt.title(\"Consultation_fee by City\")\n",
    "plt.ylabel(\"Consultation_fee\")\n",
    "plt.xlabel(\"City\")\n",
    "plt.xticks(rotation=90)\n",
    "plt.show()"
   ]
  },
  {
   "cell_type": "code",
   "execution_count": 36,
   "id": "7d438dad",
   "metadata": {},
   "outputs": [
    {
     "data": {
      "image/png": "[encoded data removed]",
      "text/plain": [
       "<Figure size 432x288 with 1 Axes>"
      ]
     },
     "metadata": {
      "needs_background": "light"
     },
     "output_type": "display_data"
    }
   ],
   "source": [
    "# Consultation fee in each city\n",
    "import warnings\n",
    "warnings.filterwarnings(\"ignore\")\n",
    "sns.swarmplot(x ='City', y ='Consultation_Fee', data = p)\n",
    "plt.xticks(rotation = 90)\n",
    "plt.show()"
   ]
  },
  {
   "cell_type": "markdown",
   "id": "896db6fb",
   "metadata": {},
   "source": [
    "## Multivariate "
   ]
  },
  {
   "cell_type": "code",
   "execution_count": 38,
   "id": "a8a0407e",
   "metadata": {},
   "outputs": [
    {
     "data": {
      "image/png": "[encoded data removed]",
      "text/plain": [
       "<Figure size 450.875x360 with 1 Axes>"
      ]
     },
     "metadata": {
      "needs_background": "light"
     },
     "output_type": "display_data"
    }
   ],
   "source": [
    "# Specialists consultation fee in each city\n",
    "sns.relplot(x = \"Specialization\",y = \"Consultation_Fee\",hue = \"City\",data=p)\n",
    "plt.xticks(rotation = 90)\n",
    "plt.show()"
   ]
  },
  {
   "cell_type": "code",
   "execution_count": 282,
   "id": "39d9549e",
   "metadata": {},
   "outputs": [
    {
     "data": {
      "image/png": "[encoded data removed]",
      "text/plain": [
       "<Figure size 432x288 with 2 Axes>"
      ]
     },
     "metadata": {
      "needs_background": "light"
     },
     "output_type": "display_data"
    }
   ],
   "source": [
    "# correlation\n",
    "sns.heatmap(p.corr(),annot=True,cmap=\"Set3\",linecolor=\"black\",linewidth=4)\n",
    "plt.show();"
   ]
  },
  {
   "cell_type": "markdown",
   "id": "c79aff94",
   "metadata": {},
   "source": [
    "# Conclusion"
   ]
  },
  {
   "cell_type": "markdown",
   "id": "edb17828",
   "metadata": {},
   "source": [
    "* As we Observe, In most of the cities \"Dermatologists\" are more in number.\n",
    "* For each Specialist,Their Consultation fee is effected by their work experience.\n",
    "       In our data,General Physician has more consultation fee.So that we can clearly say that he has        more experience compared to others.\n",
    "* Based on the Sucess_rate of each doctor we can recommand to respective doctor based on our health conditions.\n",
    "* By seeing the patient stories, Anyone  can get clear idea about each doctor how Effectively his/her treatment makes the patients speed recovery."
   ]
  },
  {
   "cell_type": "code",
   "execution_count": null,
   "id": "1b5a74a3",
   "metadata": {},
   "outputs": [],
   "source": []
  }
 ],
 "metadata": {
  "kernelspec": {
   "display_name": "Python 3 (ipykernel)",
   "language": "python",
   "name": "python3"
  },
  "language_info": {
   "codemirror_mode": {
    "name": "ipython",
    "version": 3
   },
   "file_extension": ".py",
   "mimetype": "text/x-python",
   "name": "python",
   "nbconvert_exporter": "python",
   "pygments_lexer": "ipython3",
   "version": "3.9.7"
  }
 },
 "nbformat": 4,
 "nbformat_minor": 5
}
